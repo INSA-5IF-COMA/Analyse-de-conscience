{
 "cells": [
  {
   "cell_type": "code",
   "execution_count": 1,
   "metadata": {},
   "outputs": [
    {
     "name": "stderr",
     "output_type": "stream",
     "text": [
      "c:\\Users\\Lenovo\\AppData\\Local\\Programs\\Python\\Python39\\lib\\site-packages\\tqdm\\auto.py:21: TqdmWarning: IProgress not found. Please update jupyter and ipywidgets. See https://ipywidgets.readthedocs.io/en/stable/user_install.html\n",
      "  from .autonotebook import tqdm as notebook_tqdm\n"
     ]
    }
   ],
   "source": [
    "from explainability import explain_temporal\n",
    "import numpy as np\n",
    "\n",
    "subject = 3"
   ]
  },
  {
   "cell_type": "code",
   "execution_count": 2,
   "metadata": {},
   "outputs": [
    {
     "name": "stdout",
     "output_type": "stream",
     "text": [
      "SelfStim vs SelfSoc\n",
      "1.10.1+cpu\n",
      "Using cpu\n",
      "Number of features: 100\n",
      "Generating train/val/test split...\n",
      "Generating sequences...\n",
      "Number of test examples: 40\n",
      "Loading model.\n",
      "Running Integrated Gradients.\n"
     ]
    },
    {
     "name": "stderr",
     "output_type": "stream",
     "text": [
      "100%|██████████| 40/40 [00:31<00:00,  1.26it/s]\n"
     ]
    },
    {
     "name": "stdout",
     "output_type": "stream",
     "text": [
      "Test accuracy: 0.800000011920929\n",
      "1.10.1+cpu\n",
      "Using cpu\n",
      "Number of features: 100\n",
      "Generating train/val/test split...\n",
      "Generating sequences...\n",
      "Number of test examples: 40\n",
      "Loading model.\n",
      "Running Integrated Gradients.\n"
     ]
    },
    {
     "name": "stderr",
     "output_type": "stream",
     "text": [
      "100%|██████████| 40/40 [00:27<00:00,  1.48it/s]\n"
     ]
    },
    {
     "name": "stdout",
     "output_type": "stream",
     "text": [
      "Test accuracy: 0.800000011920929\n",
      "SelfStim vs CtrlSoc\n",
      "1.10.1+cpu\n",
      "Using cpu\n",
      "Number of features: 100\n",
      "Generating train/val/test split...\n",
      "Generating sequences...\n",
      "Number of test examples: 50\n",
      "Loading model.\n",
      "Running Integrated Gradients.\n"
     ]
    },
    {
     "name": "stderr",
     "output_type": "stream",
     "text": [
      "100%|██████████| 50/50 [00:32<00:00,  1.55it/s]\n"
     ]
    },
    {
     "name": "stdout",
     "output_type": "stream",
     "text": [
      "Test accuracy: 0.9800000190734863\n",
      "1.10.1+cpu\n",
      "Using cpu\n",
      "Number of features: 100\n",
      "Generating train/val/test split...\n",
      "Generating sequences...\n",
      "Number of test examples: 50\n",
      "Loading model.\n",
      "Running Integrated Gradients.\n"
     ]
    },
    {
     "name": "stderr",
     "output_type": "stream",
     "text": [
      "100%|██████████| 50/50 [00:33<00:00,  1.49it/s]\n"
     ]
    },
    {
     "name": "stdout",
     "output_type": "stream",
     "text": [
      "Test accuracy: 0.9800000190734863\n",
      "CtrlStim vs SelfSoc\n",
      "1.10.1+cpu\n",
      "Using cpu\n",
      "Number of features: 100\n",
      "Generating train/val/test split...\n",
      "Generating sequences...\n",
      "Number of test examples: 51\n",
      "Loading model.\n",
      "Running Integrated Gradients.\n"
     ]
    },
    {
     "name": "stderr",
     "output_type": "stream",
     "text": [
      "100%|██████████| 51/51 [01:05<00:00,  1.28s/it]\n"
     ]
    },
    {
     "name": "stdout",
     "output_type": "stream",
     "text": [
      "Test accuracy: 0.8627451062202454\n",
      "1.10.1+cpu\n",
      "Using cpu\n",
      "Number of features: 100\n",
      "Generating train/val/test split...\n",
      "Generating sequences...\n",
      "Number of test examples: 51\n",
      "Loading model.\n",
      "Running Integrated Gradients.\n"
     ]
    },
    {
     "name": "stderr",
     "output_type": "stream",
     "text": [
      "100%|██████████| 51/51 [00:42<00:00,  1.19it/s]\n"
     ]
    },
    {
     "name": "stdout",
     "output_type": "stream",
     "text": [
      "Test accuracy: 0.8627451062202454\n",
      "CtrlStim vs CtrlSoc\n",
      "1.10.1+cpu\n",
      "Using cpu\n",
      "Number of features: 100\n",
      "Generating train/val/test split...\n",
      "Generating sequences...\n",
      "Number of test examples: 21\n",
      "Loading model.\n",
      "Running Integrated Gradients.\n"
     ]
    },
    {
     "name": "stderr",
     "output_type": "stream",
     "text": [
      "100%|██████████| 21/21 [00:14<00:00,  1.50it/s]\n"
     ]
    },
    {
     "name": "stdout",
     "output_type": "stream",
     "text": [
      "Test accuracy: 0.523809552192688\n",
      "1.10.1+cpu\n",
      "Using cpu\n",
      "Number of features: 100\n",
      "Generating train/val/test split...\n",
      "Generating sequences...\n",
      "Number of test examples: 21\n",
      "Loading model.\n",
      "Running Integrated Gradients.\n"
     ]
    },
    {
     "name": "stderr",
     "output_type": "stream",
     "text": [
      "100%|██████████| 21/21 [00:24<00:00,  1.17s/it]\n"
     ]
    },
    {
     "name": "stdout",
     "output_type": "stream",
     "text": [
      "Test accuracy: 0.523809552192688\n",
      "SelfRest vs SelfSoc\n",
      "1.10.1+cpu\n",
      "Using cpu\n",
      "Number of features: 100\n",
      "Generating train/val/test split...\n",
      "Generating sequences...\n",
      "Number of test examples: 40\n",
      "Loading model.\n",
      "Running Integrated Gradients.\n"
     ]
    },
    {
     "name": "stderr",
     "output_type": "stream",
     "text": [
      "100%|██████████| 40/40 [00:24<00:00,  1.62it/s]\n"
     ]
    },
    {
     "name": "stdout",
     "output_type": "stream",
     "text": [
      "Test accuracy: 0.925000011920929\n",
      "1.10.1+cpu\n",
      "Using cpu\n",
      "Number of features: 100\n",
      "Generating train/val/test split...\n",
      "Generating sequences...\n",
      "Number of test examples: 40\n",
      "Loading model.\n",
      "Running Integrated Gradients.\n"
     ]
    },
    {
     "name": "stderr",
     "output_type": "stream",
     "text": [
      "100%|██████████| 40/40 [00:24<00:00,  1.61it/s]\n"
     ]
    },
    {
     "name": "stdout",
     "output_type": "stream",
     "text": [
      "Test accuracy: 0.925000011920929\n",
      "SelfRest vs CtrlSoc\n",
      "1.10.1+cpu\n",
      "Using cpu\n",
      "Number of features: 100\n",
      "Generating train/val/test split...\n",
      "Generating sequences...\n",
      "Number of test examples: 61\n",
      "Loading model.\n",
      "Running Integrated Gradients.\n"
     ]
    },
    {
     "name": "stderr",
     "output_type": "stream",
     "text": [
      "100%|██████████| 61/61 [00:37<00:00,  1.63it/s]\n"
     ]
    },
    {
     "name": "stdout",
     "output_type": "stream",
     "text": [
      "Test accuracy: 0.9344262480735779\n",
      "1.10.1+cpu\n",
      "Using cpu\n",
      "Number of features: 100\n",
      "Generating train/val/test split...\n",
      "Generating sequences...\n",
      "Number of test examples: 61\n",
      "Loading model.\n",
      "Running Integrated Gradients.\n"
     ]
    },
    {
     "name": "stderr",
     "output_type": "stream",
     "text": [
      "100%|██████████| 61/61 [00:38<00:00,  1.58it/s]\n"
     ]
    },
    {
     "name": "stdout",
     "output_type": "stream",
     "text": [
      "Test accuracy: 0.9344262480735779\n",
      "CtrlRest vs SelfSoc\n",
      "1.10.1+cpu\n",
      "Using cpu\n",
      "Number of features: 100\n",
      "Generating train/val/test split...\n",
      "Generating sequences...\n",
      "Number of test examples: 60\n",
      "Loading model.\n",
      "Running Integrated Gradients.\n"
     ]
    },
    {
     "name": "stderr",
     "output_type": "stream",
     "text": [
      "100%|██████████| 60/60 [00:36<00:00,  1.63it/s]\n"
     ]
    },
    {
     "name": "stdout",
     "output_type": "stream",
     "text": [
      "Test accuracy: 0.9666666388511658\n",
      "1.10.1+cpu\n",
      "Using cpu\n",
      "Number of features: 100\n",
      "Generating train/val/test split...\n",
      "Generating sequences...\n",
      "Number of test examples: 60\n",
      "Loading model.\n",
      "Running Integrated Gradients.\n"
     ]
    },
    {
     "name": "stderr",
     "output_type": "stream",
     "text": [
      "100%|██████████| 60/60 [00:42<00:00,  1.42it/s]\n"
     ]
    },
    {
     "name": "stdout",
     "output_type": "stream",
     "text": [
      "Test accuracy: 0.9666666388511658\n",
      "CtrlRest vs CtrlSoc\n",
      "1.10.1+cpu\n",
      "Using cpu\n",
      "Number of features: 100\n",
      "Generating train/val/test split...\n",
      "Generating sequences...\n",
      "Number of test examples: 20\n",
      "Loading model.\n",
      "Running Integrated Gradients.\n"
     ]
    },
    {
     "name": "stderr",
     "output_type": "stream",
     "text": [
      "100%|██████████| 20/20 [00:13<00:00,  1.50it/s]\n"
     ]
    },
    {
     "name": "stdout",
     "output_type": "stream",
     "text": [
      "Test accuracy: 0.699999988079071\n",
      "1.10.1+cpu\n",
      "Using cpu\n",
      "Number of features: 100\n",
      "Generating train/val/test split...\n",
      "Generating sequences...\n",
      "Number of test examples: 20\n",
      "Loading model.\n",
      "Running Integrated Gradients.\n"
     ]
    },
    {
     "name": "stderr",
     "output_type": "stream",
     "text": [
      "100%|██████████| 20/20 [00:13<00:00,  1.44it/s]"
     ]
    },
    {
     "name": "stdout",
     "output_type": "stream",
     "text": [
      "Test accuracy: 0.699999988079071\n"
     ]
    },
    {
     "name": "stderr",
     "output_type": "stream",
     "text": [
      "\n"
     ]
    }
   ],
   "source": [
    "print(\"SelfStim vs SelfSoc\")\n",
    "grouped_ts_1_5 = explain_temporal(\"D:\\\\Donnees\\\\Documents\\\\insa\\\\5IF\\\\PSAT\\\\CNN1D\\\\Analyse-de-conscience\\\\code\\\\best_model_checkpoint_0_4.pth\", \"D:\\\\Donnees\\\\Documents\\\\insa\\\\5IF\\\\PSAT\\\\CNN1D\\\\data\\\\video\\\\All_Subs_Diff_Modules_nofilter_withoutAUc.csv\", [0,4], [0,1], subject, 0)\n",
    "grouped_ts_1_5r = explain_temporal(\"D:\\\\Donnees\\\\Documents\\\\insa\\\\5IF\\\\PSAT\\\\CNN1D\\\\Analyse-de-conscience\\\\code\\\\best_model_checkpoint_0_4.pth\", \"D:\\\\Donnees\\\\Documents\\\\insa\\\\5IF\\\\PSAT\\\\CNN1D\\\\data\\\\video\\\\All_Subs_Diff_Modules_nofilter_withoutAUc.csv\", [0,4], [0,1], subject, 1)\n",
    "\n",
    "print(\"SelfStim vs CtrlSoc\")\n",
    "grouped_ts_1_6 = explain_temporal(\"D:\\\\Donnees\\\\Documents\\\\insa\\\\5IF\\\\PSAT\\\\CNN1D\\\\Analyse-de-conscience\\\\code\\\\best_model_checkpoint_0_5.pth\", \"D:\\\\Donnees\\\\Documents\\\\insa\\\\5IF\\\\PSAT\\\\CNN1D\\\\data\\\\video\\\\All_Subs_Diff_Modules_nofilter_withoutAUc.csv\", [0,5], [0,1], subject, 0)\n",
    "grouped_ts_1_6r = explain_temporal(\"D:\\\\Donnees\\\\Documents\\\\insa\\\\5IF\\\\PSAT\\\\CNN1D\\\\Analyse-de-conscience\\\\code\\\\best_model_checkpoint_0_5.pth\", \"D:\\\\Donnees\\\\Documents\\\\insa\\\\5IF\\\\PSAT\\\\CNN1D\\\\data\\\\video\\\\All_Subs_Diff_Modules_nofilter_withoutAUc.csv\", [0,5], [0,1], subject, 1)\n",
    "\n",
    "print(\"CtrlStim vs SelfSoc\")\n",
    "grouped_ts_2_5 = explain_temporal(\"D:\\\\Donnees\\\\Documents\\\\insa\\\\5IF\\\\PSAT\\\\CNN1D\\\\Analyse-de-conscience\\\\code\\\\best_model_checkpoint_1_4.pth\", \"D:\\\\Donnees\\\\Documents\\\\insa\\\\5IF\\\\PSAT\\\\CNN1D\\\\data\\\\video\\\\All_Subs_Diff_Modules_nofilter_withoutAUc.csv\", [1,4], [0,1], subject, 0)\n",
    "grouped_ts_2_5r = explain_temporal(\"D:\\\\Donnees\\\\Documents\\\\insa\\\\5IF\\\\PSAT\\\\CNN1D\\\\Analyse-de-conscience\\\\code\\\\best_model_checkpoint_1_4.pth\", \"D:\\\\Donnees\\\\Documents\\\\insa\\\\5IF\\\\PSAT\\\\CNN1D\\\\data\\\\video\\\\All_Subs_Diff_Modules_nofilter_withoutAUc.csv\", [1,4], [0,1], subject, 1)\n",
    "\n",
    "print(\"CtrlStim vs CtrlSoc\")\n",
    "grouped_ts_2_6 = explain_temporal(\"D:\\\\Donnees\\\\Documents\\\\insa\\\\5IF\\\\PSAT\\\\CNN1D\\\\Analyse-de-conscience\\\\code\\\\best_model_checkpoint_1_5.pth\", \"D:\\\\Donnees\\\\Documents\\\\insa\\\\5IF\\\\PSAT\\\\CNN1D\\\\data\\\\video\\\\All_Subs_Diff_Modules_nofilter_withoutAUc.csv\", [1,5], [0,1], subject, 0)\n",
    "grouped_ts_2_6r = explain_temporal(\"D:\\\\Donnees\\\\Documents\\\\insa\\\\5IF\\\\PSAT\\\\CNN1D\\\\Analyse-de-conscience\\\\code\\\\best_model_checkpoint_1_5.pth\", \"D:\\\\Donnees\\\\Documents\\\\insa\\\\5IF\\\\PSAT\\\\CNN1D\\\\data\\\\video\\\\All_Subs_Diff_Modules_nofilter_withoutAUc.csv\", [1,5], [0,1], subject, 1)\n",
    "\n",
    "print(\"SelfRest vs SelfSoc\")\n",
    "grouped_ts_3_5 = explain_temporal(\"D:\\\\Donnees\\\\Documents\\\\insa\\\\5IF\\\\PSAT\\\\CNN1D\\\\Analyse-de-conscience\\\\code\\\\best_model_checkpoint_2_4.pth\", \"D:\\\\Donnees\\\\Documents\\\\insa\\\\5IF\\\\PSAT\\\\CNN1D\\\\data\\\\video\\\\All_Subs_Diff_Modules_nofilter_withoutAUc.csv\", [2,4], [0,1], subject, 0)\n",
    "grouped_ts_3_5r = explain_temporal(\"D:\\\\Donnees\\\\Documents\\\\insa\\\\5IF\\\\PSAT\\\\CNN1D\\\\Analyse-de-conscience\\\\code\\\\best_model_checkpoint_2_4.pth\", \"D:\\\\Donnees\\\\Documents\\\\insa\\\\5IF\\\\PSAT\\\\CNN1D\\\\data\\\\video\\\\All_Subs_Diff_Modules_nofilter_withoutAUc.csv\", [2,4], [0,1], subject, 1)\n",
    "\n",
    "print(\"SelfRest vs CtrlSoc\")\n",
    "grouped_ts_3_6 = explain_temporal(\"D:\\\\Donnees\\\\Documents\\\\insa\\\\5IF\\\\PSAT\\\\CNN1D\\\\Analyse-de-conscience\\\\code\\\\best_model_checkpoint_2_5.pth\", \"D:\\\\Donnees\\\\Documents\\\\insa\\\\5IF\\\\PSAT\\\\CNN1D\\\\data\\\\video\\\\All_Subs_Diff_Modules_nofilter_withoutAUc.csv\", [2,5], [0,1], subject, 0)\n",
    "grouped_ts_3_6r = explain_temporal(\"D:\\\\Donnees\\\\Documents\\\\insa\\\\5IF\\\\PSAT\\\\CNN1D\\\\Analyse-de-conscience\\\\code\\\\best_model_checkpoint_2_5.pth\", \"D:\\\\Donnees\\\\Documents\\\\insa\\\\5IF\\\\PSAT\\\\CNN1D\\\\data\\\\video\\\\All_Subs_Diff_Modules_nofilter_withoutAUc.csv\", [2,5], [0,1], subject, 1)\n",
    "\n",
    "print(\"CtrlRest vs SelfSoc\")\n",
    "grouped_ts_4_5 = explain_temporal(\"D:\\\\Donnees\\\\Documents\\\\insa\\\\5IF\\\\PSAT\\\\CNN1D\\\\Analyse-de-conscience\\\\code\\\\best_model_checkpoint_3_4.pth\", \"D:\\\\Donnees\\\\Documents\\\\insa\\\\5IF\\\\PSAT\\\\CNN1D\\\\data\\\\video\\\\All_Subs_Diff_Modules_nofilter_withoutAUc.csv\", [3,4], [0,1], subject, 0)\n",
    "grouped_ts_4_5r = explain_temporal(\"D:\\\\Donnees\\\\Documents\\\\insa\\\\5IF\\\\PSAT\\\\CNN1D\\\\Analyse-de-conscience\\\\code\\\\best_model_checkpoint_3_4.pth\", \"D:\\\\Donnees\\\\Documents\\\\insa\\\\5IF\\\\PSAT\\\\CNN1D\\\\data\\\\video\\\\All_Subs_Diff_Modules_nofilter_withoutAUc.csv\", [3,4], [0,1], subject, 1)\n",
    "\n",
    "print(\"CtrlRest vs CtrlSoc\")\n",
    "grouped_ts_4_6 = explain_temporal(\"D:\\\\Donnees\\\\Documents\\\\insa\\\\5IF\\\\PSAT\\\\CNN1D\\\\Analyse-de-conscience\\\\code\\\\best_model_checkpoint_3_5.pth\", \"D:\\\\Donnees\\\\Documents\\\\insa\\\\5IF\\\\PSAT\\\\CNN1D\\\\data\\\\video\\\\All_Subs_Diff_Modules_nofilter_withoutAUc.csv\", [3,5], [0,1], subject, 0)\n",
    "grouped_ts_4_6r = explain_temporal(\"D:\\\\Donnees\\\\Documents\\\\insa\\\\5IF\\\\PSAT\\\\CNN1D\\\\Analyse-de-conscience\\\\code\\\\best_model_checkpoint_3_5.pth\", \"D:\\\\Donnees\\\\Documents\\\\insa\\\\5IF\\\\PSAT\\\\CNN1D\\\\data\\\\video\\\\All_Subs_Diff_Modules_nofilter_withoutAUc.csv\", [3,5], [0,1], subject, 1)"
   ]
  },
  {
   "cell_type": "code",
   "execution_count": 5,
   "metadata": {},
   "outputs": [
    {
     "name": "stdout",
     "output_type": "stream",
     "text": [
      "[[1.67785912e-05 1.96865806e-05 1.13990357e-05 1.80213099e-05\n",
      "  1.30586887e-05 1.25896355e-05 1.32790489e-05 1.63217003e-05\n",
      "  1.36178443e-05 1.87018754e-05 1.29256810e-05 1.55964642e-05\n",
      "  1.36784712e-05 1.48216872e-05 1.52942370e-05 1.89627595e-05\n",
      "  1.55028336e-05 1.64524861e-05 1.96828103e-05 1.88111318e-05\n",
      "  1.41372289e-05 1.80424577e-05 1.56800158e-05 1.25468416e-05\n",
      "  1.42152871e-05 1.84117857e-05 2.34479869e-05 1.69819946e-05\n",
      "  1.29687249e-05 2.08776911e-05 2.03519979e-05 2.01067765e-05\n",
      "  1.47509846e-05 1.83341070e-05 1.64757760e-05 1.60358281e-05\n",
      "  1.64698299e-05 1.69557986e-05 1.38102170e-05 1.48164145e-05\n",
      "  1.60862025e-05 1.91350091e-05 1.31246956e-05 1.54456100e-05\n",
      "  1.50481572e-05 1.62705454e-05 2.07146732e-05 1.69868472e-05\n",
      "  1.28439610e-05 1.23827052e-05 1.45812650e-05 1.73039409e-05\n",
      "  1.75431679e-05 1.29789631e-05 1.10113713e-05 1.59832105e-05\n",
      "  2.02719016e-05 1.52062110e-05 1.64363361e-05 2.09474515e-05\n",
      "  1.70196827e-05 2.02833362e-05 1.61223770e-05 1.67390275e-05\n",
      "  1.37728666e-05 1.70390050e-05 1.89236659e-05 1.57868259e-05\n",
      "  1.62231766e-05 1.68354148e-05 1.57565291e-05 1.66614256e-05\n",
      "  1.48215097e-05 1.70574707e-05 1.59651345e-05 1.65054676e-05\n",
      "  1.43239572e-05 1.62459276e-05 1.02418764e-05 1.79182371e-05\n",
      "  1.56909495e-05 2.13550625e-05 1.39391059e-05 1.25631776e-05\n",
      "  2.71379904e-05 2.33895617e-05 1.89001838e-05 1.48172016e-05\n",
      "  1.85835347e-05 1.89457600e-05 1.42117541e-05 2.37623161e-05\n",
      "  1.50216993e-05 1.70401526e-05 1.85922909e-05 1.58116508e-05\n",
      "  2.48933912e-05 1.09523820e-05 1.57406479e-05 1.84736060e-05\n",
      "  1.75372492e-05 1.70160010e-05 2.69520923e-05 1.45513072e-05\n",
      "  1.63377897e-05 1.82447808e-05 1.87453737e-05 1.61181712e-05\n",
      "  1.68661116e-05 1.67591127e-05]\n",
      " [2.88401880e-05 3.03329332e-05 3.91426262e-05 1.16193191e-05\n",
      "  2.02827517e-05 5.37837778e-05 2.92051010e-05 2.61587752e-05\n",
      "  5.76049603e-05 1.64629533e-05 1.07925662e-05 3.17871021e-05\n",
      "  3.71896092e-05 1.40280613e-05 3.31936732e-05 3.40541856e-05\n",
      "  3.44192402e-05 3.10703443e-05 4.62471497e-05 2.41968461e-05\n",
      "  3.00080751e-05 3.03830535e-05 3.94465663e-05 2.54029962e-05\n",
      "  4.23579375e-05 2.18447034e-05 3.21125625e-05 2.99763045e-05\n",
      "  4.11342235e-05 2.07480461e-05 3.39104654e-05 2.88933726e-05\n",
      "  4.03271558e-05 2.95443298e-05 3.21885156e-05 3.14508910e-05\n",
      "  4.22859296e-05 2.96621363e-05 3.28293796e-05 2.14059241e-05\n",
      "  3.45553725e-05 3.07490084e-05 3.22078217e-05 1.68492256e-05\n",
      "  2.25511372e-05 2.14906137e-05 4.09153826e-05 2.67886138e-05\n",
      "  4.20319524e-05 1.86951324e-05 3.41927870e-05 2.92750724e-05\n",
      "  4.16425896e-05 3.03107467e-05 2.26610885e-05 2.59911915e-05\n",
      "  3.04509344e-05 2.61392479e-05 4.38332669e-05 2.26089013e-05\n",
      "  3.57759692e-05 3.22872717e-05 4.29690327e-05 2.27889739e-05\n",
      "  3.51038670e-05 3.86650481e-05 4.09355583e-05 3.20448553e-05\n",
      "  3.37498738e-05 2.73802964e-05 3.77233974e-05 3.17253666e-05\n",
      "  4.44570563e-05 2.53748426e-05 4.34283217e-05 1.36949879e-05\n",
      "  3.90538310e-05 2.66325657e-05 2.84641515e-05 2.00649609e-05\n",
      "  3.76518520e-05 3.71599867e-05 3.40360642e-05 2.24414356e-05\n",
      "  3.70111200e-05 3.20577915e-05 4.46534379e-05 2.63616832e-05\n",
      "  4.19429440e-05 1.81429751e-05 4.00399472e-05 3.58300707e-05\n",
      "  4.20178952e-05 2.64256947e-05 3.58495906e-05 2.98673615e-05\n",
      "  5.06791140e-05 2.86960991e-05 4.23052074e-05 1.87021324e-05\n",
      "  4.28726389e-05 3.53802203e-05 1.93039315e-05 2.91739209e-05\n",
      "  2.12274805e-05 2.73907223e-05 4.07570592e-05 3.63623308e-05\n",
      "  4.06283001e-05 2.74535126e-05]\n",
      " [3.05414172e-05 2.95055766e-05 3.95757698e-05 7.70141315e-05\n",
      "  2.09974906e-05 4.90391523e-05 4.71471237e-05 3.35592651e-05\n",
      "  8.21592021e-05 7.57833111e-05 1.55408146e-05 2.13222780e-05\n",
      "  3.93453417e-05 2.34176112e-05 3.88223732e-05 5.47410778e-05\n",
      "  5.24671408e-05 5.02729136e-05 5.17105931e-05 3.64716876e-05\n",
      "  3.96778728e-05 2.67625338e-05 3.36237449e-05 4.79712219e-05\n",
      "  4.42488928e-05 3.31399556e-05 2.89350410e-04 2.75278150e-05\n",
      "  4.83383958e-05 5.58061286e-05 4.31874914e-05 4.09973842e-05\n",
      "  4.46059240e-05 4.76098784e-05 2.53577806e-05 3.92935537e-05\n",
      "  3.79374514e-05 3.03745261e-05 3.25519536e-05 3.28234420e-05\n",
      "  4.26300366e-05 4.28329872e-05 3.40701578e-05 3.42962062e-05\n",
      "  6.18413507e-05 3.81793535e-05 4.88835585e-05 3.51024666e-05\n",
      "  5.79809868e-05 2.91054554e-05 3.56283311e-05 3.00263048e-05\n",
      "  3.20156073e-05 5.10453763e-05 2.66071907e-05 3.23275057e-05\n",
      "  4.81155461e-05 2.45730314e-05 4.54141006e-05 3.30426991e-05\n",
      "  2.96372149e-05 3.74540047e-05 4.79637796e-05 3.99115934e-05\n",
      "  1.56260613e-04 5.23837990e-05 4.72939228e-05 4.06766803e-05\n",
      "  5.28347236e-05 4.16047030e-05 5.15879940e-05 3.16721393e-05\n",
      "  4.80785135e-05 4.13160870e-05 3.62292230e-05 2.86389497e-05\n",
      "  3.49167450e-05 4.31590585e-05 2.62292990e-05 3.67229629e-05\n",
      "  3.53866509e-05 3.10119154e-05 2.80264689e-05 2.39449910e-05\n",
      "  2.47814338e-04 4.51500576e-05 4.61286234e-05 3.04620022e-05\n",
      "  5.20716862e-05 3.50569647e-05 3.51476167e-05 2.94318827e-05\n",
      "  4.77105049e-05 4.48945261e-05 3.69505418e-05 2.47254227e-05\n",
      "  1.49784703e-04 3.01102144e-05 7.53506557e-05 2.95644913e-05\n",
      "  4.62269589e-05 4.08465295e-05 5.37055520e-05 4.26486903e-05\n",
      "  2.53095870e-05 4.46384514e-05 3.28693665e-05 4.02818004e-05\n",
      "  5.75055329e-05 3.60330794e-05]\n",
      " [1.77336498e-05 2.52458397e-05 2.31685368e-05 7.78073410e-05\n",
      "  1.76993432e-05 2.82865081e-05 2.23435596e-05 1.91243552e-05\n",
      "  1.16471322e-05 5.22396371e-05 1.53660096e-05 1.55590900e-05\n",
      "  2.04891406e-05 3.65162205e-05 1.92007620e-05 3.11333942e-05\n",
      "  2.30779688e-05 2.37319166e-05 2.59928065e-05 2.98420271e-05\n",
      "  1.84890759e-05 2.15667790e-05 1.34374809e-05 4.07479230e-05\n",
      "  2.55642667e-05 2.90966706e-05 9.50143357e-05 2.20744534e-05\n",
      "  2.00405837e-05 4.04601097e-05 1.93713802e-05 1.77686541e-05\n",
      "  2.16623407e-05 3.69749992e-05 9.65589388e-06 3.19581153e-05\n",
      "  1.74762310e-05 1.54375250e-05 1.41203812e-05 3.51081636e-05\n",
      "  2.21602403e-05 2.41817876e-05 1.74025902e-05 2.47672394e-05\n",
      "  3.21489262e-05 2.92730796e-05 1.97524868e-05 1.88381871e-05\n",
      "  1.58825882e-05 2.42908288e-05 1.65737989e-05 2.44809297e-05\n",
      "  1.36893845e-05 2.22002428e-05 1.41910678e-05 2.92366634e-05\n",
      "  2.06139550e-05 1.90530530e-05 2.54036425e-05 2.70936029e-05\n",
      "  1.82700234e-05 2.47553733e-05 1.87968602e-05 3.13293800e-05\n",
      "  4.07001416e-05 3.09023978e-05 2.19690271e-05 2.23867192e-05\n",
      "  1.69911501e-05 3.48127951e-05 3.51078453e-05 2.19722104e-05\n",
      "  2.30483852e-05 2.58577997e-05 1.19489436e-05 2.24270251e-05\n",
      "  2.00955351e-05 3.12105207e-05 1.26826078e-05 2.89211166e-05\n",
      "  1.71782524e-05 1.75376040e-05 1.59529446e-05 2.13732666e-05\n",
      "  6.64779969e-05 1.90940680e-05 2.18338722e-05 1.53306837e-05\n",
      "  1.82571868e-05 2.66164060e-05 1.64575605e-05 1.83677480e-05\n",
      "  1.63245999e-05 2.67399255e-05 2.26704105e-05 2.01809164e-05\n",
      "  5.37054093e-05 1.15752875e-05 2.53168579e-05 1.94429957e-05\n",
      "  2.44473441e-05 2.08204636e-05 2.38717988e-05 3.44347188e-05\n",
      "  1.98433893e-05 2.88298736e-05 2.25163575e-05 1.90004862e-05\n",
      "  1.85681843e-05 2.47395369e-05]\n",
      " [2.61958758e-05 2.70488496e-05 2.46701582e-05 1.97115655e-05\n",
      "  1.41426782e-05 3.34508380e-05 2.44782700e-05 2.12508154e-05\n",
      "  2.79927033e-05 1.48840186e-05 1.94134936e-05 2.52264490e-05\n",
      "  2.51190064e-05 1.53069798e-05 2.31129423e-05 1.93891527e-05\n",
      "  2.78591848e-05 1.88364081e-05 2.92047012e-05 2.30741044e-05\n",
      "  2.52745042e-05 3.04782166e-05 2.69970129e-05 2.35438067e-05\n",
      "  2.84370169e-05 2.34607062e-05 2.60960884e-05 2.55290853e-05\n",
      "  2.36207906e-05 1.70384028e-05 2.25259158e-05 1.70178995e-05\n",
      "  3.37438576e-05 2.44396970e-05 1.84852296e-05 2.45369397e-05\n",
      "  2.81519471e-05 2.18960414e-05 2.29969019e-05 1.87300522e-05\n",
      "  2.71335969e-05 2.16752377e-05 2.08993821e-05 1.83894497e-05\n",
      "  1.79243265e-05 2.25707521e-05 2.34804126e-05 1.99340981e-05\n",
      "  1.93493431e-05 1.35052241e-05 2.53630483e-05 1.67846354e-05\n",
      "  2.93837530e-05 2.47911190e-05 1.90645213e-05 1.91962696e-05\n",
      "  1.58145836e-05 2.25750147e-05 3.27306853e-05 2.11107236e-05\n",
      "  2.86606615e-05 2.18058860e-05 3.18764208e-05 2.25557256e-05\n",
      "  2.32371283e-05 2.91707374e-05 2.80926869e-05 2.11324011e-05\n",
      "  2.29588482e-05 2.59518903e-05 1.63106875e-05 1.83325811e-05\n",
      "  2.99138427e-05 1.85264307e-05 2.48604379e-05 1.34081036e-05\n",
      "  2.72137298e-05 1.78581973e-05 2.23372611e-05 1.67610920e-05\n",
      "  1.63327017e-05 1.96187628e-05 2.75449294e-05 2.06304738e-05\n",
      "  2.02750026e-05 2.51992171e-05 2.48273678e-05 1.55403128e-05\n",
      "  2.76716450e-05 2.00782662e-05 2.52452728e-05 2.35857525e-05\n",
      "  2.28358752e-05 1.68185157e-05 2.30799603e-05 2.00006320e-05\n",
      "  2.22610759e-05 1.71495442e-05 1.59137441e-05 1.57072585e-05\n",
      "  2.69252859e-05 2.08847756e-05 2.45567489e-05 1.90484819e-05\n",
      "  2.56117763e-05 1.77670294e-05 2.75588336e-05 2.52715227e-05\n",
      "  2.24691250e-05 1.75584982e-05]\n",
      " [4.14643033e-05 4.01281235e-05 4.60663444e-05 1.01018172e-04\n",
      "  7.59551278e-05 5.80654395e-05 6.63257561e-05 4.88844234e-05\n",
      "  3.41544599e-05 2.36063671e-05 5.34118082e-05 4.39795356e-05\n",
      "  5.86508429e-05 3.76357139e-05 4.08684456e-05 5.11712410e-05\n",
      "  3.74795269e-05 4.82538812e-05 3.60240634e-05 5.41621036e-05\n",
      "  7.31358403e-05 4.03136250e-05 6.24878736e-05 8.02844317e-05\n",
      "  8.86121125e-05 5.71184744e-05 3.70734386e-05 5.39766268e-05\n",
      "  4.80913358e-05 6.38369486e-05 4.28815954e-05 3.86229800e-05\n",
      "  4.08036458e-05 5.49591663e-05 3.23264211e-05 4.31025557e-05\n",
      "  4.71336402e-05 4.57012418e-05 5.80600030e-05 5.09455015e-05\n",
      "  5.08610121e-05 4.55532874e-05 4.15049577e-05 5.54296942e-05\n",
      "  4.75902304e-05 2.79198417e-05 5.55401876e-05 4.29134368e-05\n",
      "  3.84136599e-05 4.63935097e-05 6.25890565e-05 3.40668155e-05\n",
      "  4.22223558e-05 4.33752585e-05 5.79317326e-05 5.16282184e-05\n",
      "  5.79804098e-05 4.41123032e-05 5.68355229e-05 4.52645732e-05\n",
      "  4.72142612e-05 4.06487514e-05 5.40966663e-05 2.85269680e-05\n",
      "  3.15674205e-05 4.28586880e-05 5.31791731e-05 4.15860494e-05\n",
      "  6.23122072e-05 4.97710869e-05 5.54357998e-05 5.09458994e-05\n",
      "  7.20126230e-05 7.59898356e-05 5.28035012e-05 4.31970055e-05\n",
      "  7.57602284e-05 6.10122910e-05 4.82428498e-05 4.50968400e-05\n",
      "  6.54766459e-05 4.75245319e-05 7.86429652e-05 6.92876237e-05\n",
      "  6.02886316e-05 6.51558193e-05 7.70524535e-05 5.20518917e-05\n",
      "  1.03723191e-04 1.12799938e-04 9.09649999e-05 6.39450466e-05\n",
      "  7.07971091e-05 6.97391373e-05 9.53784937e-05 8.25281129e-05\n",
      "  5.90142091e-05 6.98050779e-05 6.79648410e-05 1.17210783e-04\n",
      "  1.07470959e-04 8.86204361e-05 5.20227214e-05 7.37012822e-05\n",
      "  5.56179571e-05 5.14728077e-05 6.62462048e-05 5.10198831e-05\n",
      "  9.60781075e-05 8.31919590e-05]\n",
      " [0.00000000e+00 1.10057642e-05 2.10389914e-04 7.61780886e-05\n",
      "  2.43470538e-04 5.48265407e-05 2.01959370e-04 2.53443953e-05\n",
      "  6.49333301e-05 2.04986731e-05 3.92483787e-07 1.05165965e-05\n",
      "  7.93725336e-05 4.30674852e-05 3.55095411e-05 4.17849315e-05\n",
      "  1.08210254e-05 3.19116845e-05 4.13882508e-05 1.14683628e-05\n",
      "  1.07808705e-04 8.90474421e-05 6.85789605e-05 9.72385895e-05\n",
      "  1.37019817e-04 2.68528951e-05 6.08699928e-05 1.16442850e-05\n",
      "  3.70827914e-05 4.64612705e-05 1.04826307e-05 5.04544397e-05\n",
      "  1.22572369e-05 2.36781790e-05 2.85432184e-05 2.50925016e-05\n",
      "  2.65142210e-05 2.06488503e-05 1.70023806e-05 3.45333576e-05\n",
      "  1.23734015e-05 3.45896477e-05 5.77647172e-06 1.74013565e-05\n",
      "  2.95776381e-05 2.45661083e-05 2.79449176e-05 2.47827764e-05\n",
      "  1.99040759e-05 2.45413277e-05 9.62029788e-06 2.21232753e-05\n",
      "  2.23747258e-05 1.33931279e-05 3.68463863e-05 1.94698826e-05\n",
      "  2.15321763e-05 2.30153077e-05 2.87437645e-05 1.41545608e-05\n",
      "  1.63257609e-05 2.33210878e-05 1.56997323e-05 1.84542312e-05\n",
      "  2.40867494e-05 2.09973956e-05 3.14684576e-05 1.43624647e-05\n",
      "  3.52634679e-05 2.31156769e-05 5.81142871e-05 1.21468085e-05\n",
      "  6.48157316e-05 8.85517957e-05 5.63734147e-05 3.05565743e-05\n",
      "  2.14037404e-05 1.76089091e-05 3.21362317e-05 1.61247908e-05\n",
      "  2.99702808e-05 1.47294964e-05 1.71775451e-04 1.21431821e-04\n",
      "  1.51670414e-04 1.34990088e-04 1.69017101e-04 1.16153289e-04\n",
      "  2.58765485e-04 2.07934628e-04 1.70839945e-04 1.63642803e-04\n",
      "  1.57127676e-04 1.05846735e-04 3.67430109e-04 1.58213162e-04\n",
      "  2.27286014e-04 3.10274933e-04 2.35760754e-04 2.30917890e-04\n",
      "  1.96343884e-04 2.10948819e-04 3.81655943e-05 1.45696017e-04\n",
      "  2.45713856e-05 1.43145176e-04 2.40507659e-04 1.41001688e-04\n",
      "  2.91150062e-04 2.62353913e-04]\n",
      " [6.95345101e-05 8.59978386e-05 9.88243641e-05 6.93282409e-05\n",
      "  4.57215056e-05 4.28491373e-05 9.04632313e-05 6.95517715e-05\n",
      "  5.34037767e-05 4.47381662e-05 2.73475167e-05 3.50904110e-05\n",
      "  2.34750369e-05 2.11238624e-05 2.45683435e-05 2.41179126e-05\n",
      "  2.86865826e-05 2.66828035e-05 3.83400398e-05 3.56749599e-05\n",
      "  3.57779220e-05 6.25863042e-05 4.25723069e-05 4.00202981e-05\n",
      "  4.93542804e-05 3.61002981e-05 3.99713938e-05 2.77693869e-05\n",
      "  2.07702252e-05 2.39002700e-05 2.75175900e-05 2.74539848e-05\n",
      "  2.58757673e-05 3.32831374e-05 3.40952077e-05 2.67984236e-05\n",
      "  3.74724856e-05 3.68605628e-05 2.75610906e-05 2.53971750e-05\n",
      "  2.10023261e-05 3.33799690e-05 3.00583921e-05 2.12762106e-05\n",
      "  3.23366250e-05 2.73166089e-05 2.90526452e-05 2.88848221e-05\n",
      "  3.49064308e-05 2.62524102e-05 2.69683437e-05 3.47663270e-05\n",
      "  2.90699407e-05 3.26716034e-05 3.39082339e-05 2.27611416e-05\n",
      "  3.05988041e-05 2.74543541e-05 3.53633681e-05 3.09030013e-05\n",
      "  3.27885526e-05 2.83384722e-05 3.15161066e-05 2.82543222e-05\n",
      "  2.64561407e-05 1.74167104e-05 2.43235050e-05 2.94072993e-05\n",
      "  2.59687658e-05 3.01467873e-05 3.58576313e-05 7.00269815e-05\n",
      "  6.13561082e-05 5.34577638e-05 5.31581193e-05 5.06446100e-05\n",
      "  4.73766805e-05 3.90961204e-05 3.44652736e-05 3.48454356e-05\n",
      "  3.38725467e-05 4.39308683e-05 7.34273202e-05 6.55650700e-05\n",
      "  8.68510029e-05 8.56057299e-05 7.18180321e-05 7.63475821e-05\n",
      "  9.13254650e-05 8.55110962e-05 9.27191175e-05 6.43834317e-05\n",
      "  8.36792528e-05 1.08773661e-04 1.17713181e-04 9.62560941e-05\n",
      "  1.10539473e-04 1.03195744e-04 9.97703414e-05 7.04431289e-05\n",
      "  8.46428165e-05 6.47668921e-05 6.26078050e-05 7.76630436e-05\n",
      "  8.28857802e-05 6.99908160e-05 1.06818080e-04 9.56398913e-05\n",
      "  9.58466286e-05 1.09758530e-04]]\n",
      "8 110\n"
     ]
    }
   ],
   "source": [
    "# Soc\n",
    "minlength = np.min((grouped_ts_1_5r.shape[1], grouped_ts_2_5r.shape[1], grouped_ts_3_5r.shape[1], grouped_ts_4_5r.shape[1], grouped_ts_1_6r.shape[1], grouped_ts_2_6r.shape[1], grouped_ts_3_6r.shape[1], grouped_ts_4_6r.shape[1]))\n",
    "sit_soc = np.mean((grouped_ts_1_5r[:,:minlength], grouped_ts_2_5r[:,:minlength], grouped_ts_3_5r[:,:minlength], grouped_ts_4_5r[:,:minlength], grouped_ts_1_6r[:,:minlength], grouped_ts_2_6r[:,:minlength], grouped_ts_3_6r[:,:minlength], grouped_ts_4_6r[:,:minlength]), axis=0)\n",
    "\n",
    "# resample at 0.5s\n",
    "sit_soc_res = np.interp(np.arange(0,sit_soc.shape[1], 10), np.arange(0,sit_soc.shape[1]), sit_soc[0])\n",
    "sit_soc_res = np.vstack((sit_soc_res, np.interp(np.arange(0,sit_soc.shape[1], 10), np.arange(0,sit_soc.shape[1]), sit_soc[1])))\n",
    "sit_soc_res = np.vstack((sit_soc_res, np.interp(np.arange(0,sit_soc.shape[1], 10), np.arange(0,sit_soc.shape[1]), sit_soc[2])))\n",
    "sit_soc_res = np.vstack((sit_soc_res, np.interp(np.arange(0,sit_soc.shape[1], 10), np.arange(0,sit_soc.shape[1]), sit_soc[3])))\n",
    "sit_soc_res = np.vstack((sit_soc_res, np.interp(np.arange(0,sit_soc.shape[1], 10), np.arange(0,sit_soc.shape[1]), sit_soc[4])))\n",
    "sit_soc_res = np.vstack((sit_soc_res, np.interp(np.arange(0,sit_soc.shape[1], 10), np.arange(0,sit_soc.shape[1]), sit_soc[5])))\n",
    "sit_soc_res = np.vstack((sit_soc_res, np.interp(np.arange(0,sit_soc.shape[1], 10), np.arange(0,sit_soc.shape[1]), sit_soc[6])))\n",
    "sit_soc_res = np.vstack((sit_soc_res, np.interp(np.arange(0,sit_soc.shape[1], 10), np.arange(0,sit_soc.shape[1]), sit_soc[7])))\n",
    "\n",
    "print(sit_soc_res)\n",
    "print(len(sit_soc_res), len(sit_soc_res[0]))"
   ]
  },
  {
   "cell_type": "code",
   "execution_count": 6,
   "metadata": {},
   "outputs": [
    {
     "data": {
      "text/plain": [
       "array([0.18340962, 0.34950076, 0.50977007, 0.27251569, 0.24839776,\n",
       "       0.62819512, 0.83979721, 0.54928395])"
      ]
     },
     "execution_count": 6,
     "metadata": {},
     "output_type": "execute_result"
    }
   ],
   "source": [
    "# Multiplying all values by 100\n",
    "sit_soc_res *= 100\n",
    "\n",
    "# Summing values by row\n",
    "sum_by_row = np.sum(sit_soc_res, axis=1)\n",
    "\n",
    "sum_by_row"
   ]
  },
  {
   "cell_type": "code",
   "execution_count": null,
   "metadata": {},
   "outputs": [],
   "source": []
  }
 ],
 "metadata": {
  "kernelspec": {
   "display_name": "Python 3",
   "language": "python",
   "name": "python3"
  },
  "language_info": {
   "codemirror_mode": {
    "name": "ipython",
    "version": 3
   },
   "file_extension": ".py",
   "mimetype": "text/x-python",
   "name": "python",
   "nbconvert_exporter": "python",
   "pygments_lexer": "ipython3",
   "version": "3.9.9"
  }
 },
 "nbformat": 4,
 "nbformat_minor": 2
}
