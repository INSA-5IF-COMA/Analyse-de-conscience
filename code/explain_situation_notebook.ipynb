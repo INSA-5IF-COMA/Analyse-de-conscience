{
 "cells": [
  {
   "cell_type": "code",
   "execution_count": 1,
   "metadata": {},
   "outputs": [
    {
     "name": "stderr",
     "output_type": "stream",
     "text": [
      "C:\\Users\\ghali\\AppData\\Local\\Packages\\PythonSoftwareFoundation.Python.3.10_qbz5n2kfra8p0\\LocalCache\\local-packages\\Python310\\site-packages\\tqdm\\auto.py:21: TqdmWarning: IProgress not found. Please update jupyter and ipywidgets. See https://ipywidgets.readthedocs.io/en/stable/user_install.html\n",
      "  from .autonotebook import tqdm as notebook_tqdm\n"
     ]
    }
   ],
   "source": [
    "from explainability import explain_temporal\n",
    "import matplotlib.pyplot as plt\n",
    "import numpy as np\n",
    "import os\n",
    "\n",
    "subject = 3\n"
   ]
  },
  {
   "cell_type": "code",
   "execution_count": 3,
   "metadata": {},
   "outputs": [
    {
     "name": "stdout",
     "output_type": "stream",
     "text": [
      "SelfStim vs SelfSoc\n",
      "2.0.1+cu117\n",
      "Using cpu\n",
      "Number of features: 100\n",
      "Generating train/val/test split...\n",
      "Generating sequences...\n",
      "Number of test examples: 40\n",
      "Loading model.\n",
      "Running Integrated Gradients.\n"
     ]
    },
    {
     "name": "stderr",
     "output_type": "stream",
     "text": [
      "100%|██████████| 40/40 [00:10<00:00,  3.79it/s]\n"
     ]
    },
    {
     "name": "stdout",
     "output_type": "stream",
     "text": [
      "Test accuracy: 0.800000011920929\n",
      "2.0.1+cu117\n",
      "Using cpu\n",
      "Number of features: 100\n",
      "Generating train/val/test split...\n",
      "Generating sequences...\n",
      "Number of test examples: 40\n",
      "Loading model.\n",
      "Running Integrated Gradients.\n"
     ]
    },
    {
     "name": "stderr",
     "output_type": "stream",
     "text": [
      "100%|██████████| 40/40 [00:09<00:00,  4.38it/s]\n"
     ]
    },
    {
     "name": "stdout",
     "output_type": "stream",
     "text": [
      "Test accuracy: 0.800000011920929\n",
      "SelfStim vs CtrlSoc\n",
      "2.0.1+cu117\n",
      "Using cpu\n",
      "Number of features: 100\n",
      "Generating train/val/test split...\n",
      "Generating sequences...\n",
      "Number of test examples: 50\n",
      "Loading model.\n",
      "Running Integrated Gradients.\n"
     ]
    },
    {
     "name": "stderr",
     "output_type": "stream",
     "text": [
      "100%|██████████| 50/50 [00:11<00:00,  4.27it/s]\n"
     ]
    },
    {
     "name": "stdout",
     "output_type": "stream",
     "text": [
      "Test accuracy: 0.9800000190734863\n",
      "2.0.1+cu117\n",
      "Using cpu\n",
      "Number of features: 100\n",
      "Generating train/val/test split...\n",
      "Generating sequences...\n",
      "Number of test examples: 50\n",
      "Loading model.\n",
      "Running Integrated Gradients.\n"
     ]
    },
    {
     "name": "stderr",
     "output_type": "stream",
     "text": [
      "100%|██████████| 50/50 [00:10<00:00,  4.64it/s]\n"
     ]
    },
    {
     "name": "stdout",
     "output_type": "stream",
     "text": [
      "Test accuracy: 0.9800000190734863\n",
      "CtrlStim vs SelfSoc\n",
      "2.0.1+cu117\n",
      "Using cpu\n",
      "Number of features: 100\n",
      "Generating train/val/test split...\n",
      "Generating sequences...\n",
      "Number of test examples: 51\n",
      "Loading model.\n",
      "Running Integrated Gradients.\n"
     ]
    },
    {
     "name": "stderr",
     "output_type": "stream",
     "text": [
      "100%|██████████| 51/51 [00:11<00:00,  4.32it/s]\n"
     ]
    },
    {
     "name": "stdout",
     "output_type": "stream",
     "text": [
      "Test accuracy: 0.8627451062202454\n",
      "2.0.1+cu117\n",
      "Using cpu\n",
      "Number of features: 100\n",
      "Generating train/val/test split...\n",
      "Generating sequences...\n",
      "Number of test examples: 51\n",
      "Loading model.\n",
      "Running Integrated Gradients.\n"
     ]
    },
    {
     "name": "stderr",
     "output_type": "stream",
     "text": [
      "100%|██████████| 51/51 [00:10<00:00,  4.96it/s]\n"
     ]
    },
    {
     "name": "stdout",
     "output_type": "stream",
     "text": [
      "Test accuracy: 0.8627451062202454\n",
      "CtrlStim vs CtrlSoc\n",
      "2.0.1+cu117\n",
      "Using cpu\n",
      "Number of features: 100\n",
      "Generating train/val/test split...\n",
      "Generating sequences...\n",
      "Number of test examples: 21\n",
      "Loading model.\n",
      "Running Integrated Gradients.\n"
     ]
    },
    {
     "name": "stderr",
     "output_type": "stream",
     "text": [
      "100%|██████████| 21/21 [00:04<00:00,  4.41it/s]\n"
     ]
    },
    {
     "name": "stdout",
     "output_type": "stream",
     "text": [
      "Test accuracy: 0.523809552192688\n",
      "2.0.1+cu117\n",
      "Using cpu\n",
      "Number of features: 100\n",
      "Generating train/val/test split...\n",
      "Generating sequences...\n",
      "Number of test examples: 21\n",
      "Loading model.\n",
      "Running Integrated Gradients.\n"
     ]
    },
    {
     "name": "stderr",
     "output_type": "stream",
     "text": [
      "100%|██████████| 21/21 [00:03<00:00,  5.48it/s]\n"
     ]
    },
    {
     "name": "stdout",
     "output_type": "stream",
     "text": [
      "Test accuracy: 0.523809552192688\n",
      "SelfRest vs SelfSoc\n",
      "2.0.1+cu117\n",
      "Using cpu\n",
      "Number of features: 100\n",
      "Generating train/val/test split...\n",
      "Generating sequences...\n",
      "Number of test examples: 40\n",
      "Loading model.\n",
      "Running Integrated Gradients.\n"
     ]
    },
    {
     "name": "stderr",
     "output_type": "stream",
     "text": [
      "100%|██████████| 40/40 [00:09<00:00,  4.36it/s]\n"
     ]
    },
    {
     "name": "stdout",
     "output_type": "stream",
     "text": [
      "Test accuracy: 0.925000011920929\n",
      "2.0.1+cu117\n",
      "Using cpu\n",
      "Number of features: 100\n",
      "Generating train/val/test split...\n",
      "Generating sequences...\n",
      "Number of test examples: 40\n",
      "Loading model.\n",
      "Running Integrated Gradients.\n"
     ]
    },
    {
     "name": "stderr",
     "output_type": "stream",
     "text": [
      "100%|██████████| 40/40 [00:07<00:00,  5.04it/s]\n"
     ]
    },
    {
     "name": "stdout",
     "output_type": "stream",
     "text": [
      "Test accuracy: 0.925000011920929\n",
      "SelfRest vs CtrlSoc\n",
      "2.0.1+cu117\n",
      "Using cpu\n",
      "Number of features: 100\n",
      "Generating train/val/test split...\n",
      "Generating sequences...\n",
      "Number of test examples: 61\n",
      "Loading model.\n",
      "Running Integrated Gradients.\n"
     ]
    },
    {
     "name": "stderr",
     "output_type": "stream",
     "text": [
      "100%|██████████| 61/61 [00:13<00:00,  4.41it/s]\n"
     ]
    },
    {
     "name": "stdout",
     "output_type": "stream",
     "text": [
      "Test accuracy: 0.9344262480735779\n",
      "2.0.1+cu117\n",
      "Using cpu\n",
      "Number of features: 100\n",
      "Generating train/val/test split...\n",
      "Generating sequences...\n",
      "Number of test examples: 61\n",
      "Loading model.\n",
      "Running Integrated Gradients.\n"
     ]
    },
    {
     "name": "stderr",
     "output_type": "stream",
     "text": [
      "100%|██████████| 61/61 [00:14<00:00,  4.26it/s]\n"
     ]
    },
    {
     "name": "stdout",
     "output_type": "stream",
     "text": [
      "Test accuracy: 0.9344262480735779\n",
      "CtrlRest vs SelfSoc\n",
      "2.0.1+cu117\n",
      "Using cpu\n",
      "Number of features: 100\n",
      "Generating train/val/test split...\n",
      "Generating sequences...\n",
      "Number of test examples: 60\n",
      "Loading model.\n",
      "Running Integrated Gradients.\n"
     ]
    },
    {
     "name": "stderr",
     "output_type": "stream",
     "text": [
      "100%|██████████| 60/60 [00:11<00:00,  5.30it/s]\n"
     ]
    },
    {
     "name": "stdout",
     "output_type": "stream",
     "text": [
      "Test accuracy: 0.9666666388511658\n",
      "2.0.1+cu117\n",
      "Using cpu\n",
      "Number of features: 100\n",
      "Generating train/val/test split...\n",
      "Generating sequences...\n",
      "Number of test examples: 60\n",
      "Loading model.\n",
      "Running Integrated Gradients.\n"
     ]
    },
    {
     "name": "stderr",
     "output_type": "stream",
     "text": [
      "100%|██████████| 60/60 [00:13<00:00,  4.38it/s]\n"
     ]
    },
    {
     "name": "stdout",
     "output_type": "stream",
     "text": [
      "Test accuracy: 0.9666666388511658\n",
      "CtrlRest vs CtrlSoc\n",
      "2.0.1+cu117\n",
      "Using cpu\n",
      "Number of features: 100\n",
      "Generating train/val/test split...\n",
      "Generating sequences...\n",
      "Number of test examples: 20\n",
      "Loading model.\n",
      "Running Integrated Gradients.\n"
     ]
    },
    {
     "name": "stderr",
     "output_type": "stream",
     "text": [
      "100%|██████████| 20/20 [00:04<00:00,  4.12it/s]\n"
     ]
    },
    {
     "name": "stdout",
     "output_type": "stream",
     "text": [
      "Test accuracy: 0.699999988079071\n",
      "2.0.1+cu117\n",
      "Using cpu\n",
      "Number of features: 100\n",
      "Generating train/val/test split...\n",
      "Generating sequences...\n",
      "Number of test examples: 20\n",
      "Loading model.\n",
      "Running Integrated Gradients.\n"
     ]
    },
    {
     "name": "stderr",
     "output_type": "stream",
     "text": [
      "100%|██████████| 20/20 [00:03<00:00,  5.33it/s]"
     ]
    },
    {
     "name": "stdout",
     "output_type": "stream",
     "text": [
      "Test accuracy: 0.699999988079071\n"
     ]
    },
    {
     "name": "stderr",
     "output_type": "stream",
     "text": [
      "\n"
     ]
    }
   ],
   "source": [
    "print(\"SelfStim vs SelfSoc\")\n",
    "grouped_ts_1_5 = explain_temporal(\"./best_model_checkpoint_0_4.pth\", \"../../data/video/All_Subs_Diff_Modules_nofilter_withoutAUc.csv\", [0,4], [0,1], subject, 0)\n",
    "grouped_ts_1_5r = explain_temporal(\"./best_model_checkpoint_0_4.pth\", \"../../data/video/All_Subs_Diff_Modules_nofilter_withoutAUc.csv\", [0,4], [0,1], subject, 1)\n",
    "\n",
    "print(\"SelfStim vs CtrlSoc\")\n",
    "grouped_ts_1_6 = explain_temporal(\"./best_model_checkpoint_0_5.pth\", \"../../data/video/All_Subs_Diff_Modules_nofilter_withoutAUc.csv\", [0,5], [0,1], subject, 0)\n",
    "grouped_ts_1_6r = explain_temporal(\"./best_model_checkpoint_0_5.pth\", \"../../data/video/All_Subs_Diff_Modules_nofilter_withoutAUc.csv\", [0,5], [0,1], subject, 1)\n",
    "\n",
    "print(\"CtrlStim vs SelfSoc\")\n",
    "grouped_ts_2_5 = explain_temporal(\"./best_model_checkpoint_1_4.pth\", \"../../data/video/All_Subs_Diff_Modules_nofilter_withoutAUc.csv\", [1,4], [0,1], subject, 0)\n",
    "grouped_ts_2_5r = explain_temporal(\"./best_model_checkpoint_1_4.pth\", \"../../data/video/All_Subs_Diff_Modules_nofilter_withoutAUc.csv\", [1,4], [0,1], subject, 1)\n",
    "\n",
    "print(\"CtrlStim vs CtrlSoc\")\n",
    "grouped_ts_2_6 = explain_temporal(\"./best_model_checkpoint_1_5.pth\", \"../../data/video/All_Subs_Diff_Modules_nofilter_withoutAUc.csv\", [1,5], [0,1], subject, 0)\n",
    "grouped_ts_2_6r = explain_temporal(\"./best_model_checkpoint_1_5.pth\", \"../../data/video/All_Subs_Diff_Modules_nofilter_withoutAUc.csv\", [1,5], [0,1], subject, 1)\n",
    "\n",
    "print(\"SelfRest vs SelfSoc\")\n",
    "grouped_ts_3_5 = explain_temporal(\"./best_model_checkpoint_2_4.pth\", \"../../data/video/All_Subs_Diff_Modules_nofilter_withoutAUc.csv\", [2,4], [0,1], subject, 0)\n",
    "grouped_ts_3_5r = explain_temporal(\"./best_model_checkpoint_2_4.pth\", \"../../data/video/All_Subs_Diff_Modules_nofilter_withoutAUc.csv\", [2,4], [0,1], subject, 1)\n",
    "\n",
    "print(\"SelfRest vs CtrlSoc\")\n",
    "grouped_ts_3_6 = explain_temporal(\"./best_model_checkpoint_2_5.pth\", \"../../data/video/All_Subs_Diff_Modules_nofilter_withoutAUc.csv\", [2,5], [0,1], subject, 0)\n",
    "grouped_ts_3_6r = explain_temporal(\"./best_model_checkpoint_2_5.pth\", \"../../data/video/All_Subs_Diff_Modules_nofilter_withoutAUc.csv\", [2,5], [0,1], subject, 1)\n",
    "\n",
    "print(\"CtrlRest vs SelfSoc\")\n",
    "grouped_ts_4_5 = explain_temporal(\"./best_model_checkpoint_3_4.pth\", \"../../data/video/All_Subs_Diff_Modules_nofilter_withoutAUc.csv\", [3,4], [0,1], subject, 0)\n",
    "grouped_ts_4_5r = explain_temporal(\"./best_model_checkpoint_3_4.pth\", \"../../data/video/All_Subs_Diff_Modules_nofilter_withoutAUc.csv\", [3,4], [0,1], subject, 1)\n",
    "\n",
    "print(\"CtrlRest vs CtrlSoc\")\n",
    "grouped_ts_4_6 = explain_temporal(\"./best_model_checkpoint_3_5.pth\", \"../../data/video/All_Subs_Diff_Modules_nofilter_withoutAUc.csv\", [3,5], [0,1], subject, 0)\n",
    "grouped_ts_4_6r = explain_temporal(\"./best_model_checkpoint_3_5.pth\", \"../../data/video/All_Subs_Diff_Modules_nofilter_withoutAUc.csv\", [3,5], [0,1], subject, 1)\n"
   ]
  },
  {
   "cell_type": "code",
   "execution_count": 4,
   "metadata": {},
   "outputs": [],
   "source": [
    "# Soc\n",
    "minlength = np.min((grouped_ts_1_5r.shape[1], grouped_ts_2_5r.shape[1], grouped_ts_3_5r.shape[1], grouped_ts_4_5r.shape[1], grouped_ts_1_6r.shape[1], grouped_ts_2_6r.shape[1], grouped_ts_3_6r.shape[1], grouped_ts_4_6r.shape[1]))\n",
    "sit_soc = np.mean((grouped_ts_1_5r[:,:minlength], grouped_ts_2_5r[:,:minlength], grouped_ts_3_5r[:,:minlength], grouped_ts_4_5r[:,:minlength], grouped_ts_1_6r[:,:minlength], grouped_ts_2_6r[:,:minlength], grouped_ts_3_6r[:,:minlength], grouped_ts_4_6r[:,:minlength]), axis=0)\n",
    "\n",
    "# resample at 0.5s\n",
    "sit_soc_res = np.interp(np.arange(0,sit_soc.shape[1], 10), np.arange(0,sit_soc.shape[1]), sit_soc[0])\n",
    "sit_soc_res = np.vstack((sit_soc_res, np.interp(np.arange(0,sit_soc.shape[1], 10), np.arange(0,sit_soc.shape[1]), sit_soc[1])))\n",
    "sit_soc_res = np.vstack((sit_soc_res, np.interp(np.arange(0,sit_soc.shape[1], 10), np.arange(0,sit_soc.shape[1]), sit_soc[2])))\n",
    "sit_soc_res = np.vstack((sit_soc_res, np.interp(np.arange(0,sit_soc.shape[1], 10), np.arange(0,sit_soc.shape[1]), sit_soc[3])))\n",
    "sit_soc_res = np.vstack((sit_soc_res, np.interp(np.arange(0,sit_soc.shape[1], 10), np.arange(0,sit_soc.shape[1]), sit_soc[4])))\n",
    "sit_soc_res = np.vstack((sit_soc_res, np.interp(np.arange(0,sit_soc.shape[1], 10), np.arange(0,sit_soc.shape[1]), sit_soc[5])))\n",
    "sit_soc_res = np.vstack((sit_soc_res, np.interp(np.arange(0,sit_soc.shape[1], 10), np.arange(0,sit_soc.shape[1]), sit_soc[6])))\n",
    "sit_soc_res = np.vstack((sit_soc_res, np.interp(np.arange(0,sit_soc.shape[1], 10), np.arange(0,sit_soc.shape[1]), sit_soc[7])))\n",
    "\n",
    "# print(sit_soc_res)\n",
    "# print(len(sit_soc_res), len(sit_soc_res[0]))"
   ]
  },
  {
   "cell_type": "code",
   "execution_count": 5,
   "metadata": {},
   "outputs": [
    {
     "data": {
      "image/png": "[encoded data removed]",
      "text/plain": [
       "<Figure size 640x480 with 1 Axes>"
      ]
     },
     "metadata": {},
     "output_type": "display_data"
    }
   ],
   "source": [
    "plt.imshow(sit_soc_res)\n",
    "# plt.savefig(os.path.join(\"./\", \"sit_soc_res.png\"))"
   ]
  },
  {
   "cell_type": "code",
   "execution_count": 20,
   "metadata": {},
   "outputs": [
    {
     "data": {
      "text/plain": [
       "array([0.18362339, 0.34940354, 0.51259308, 0.27374752, 0.24703554,\n",
       "       0.62154852, 0.80218595, 0.55276083])"
      ]
     },
     "execution_count": 20,
     "metadata": {},
     "output_type": "execute_result"
    }
   ],
   "source": [
    "# Multiplying all values by 100\n",
    "sit_soc_res *= 100\n",
    "\n",
    "# Summing values by row\n",
    "sum_by_row = np.sum(sit_soc_res, axis=1)\n",
    "\n",
    "sum_by_row"
   ]
  },
  {
   "cell_type": "code",
   "execution_count": 6,
   "metadata": {},
   "outputs": [
    {
     "name": "stdout",
     "output_type": "stream",
     "text": [
      "SelfStim vs SelfRest\n",
      "2.0.1+cu117\n",
      "Using cpu\n",
      "Number of features: 100\n",
      "Generating train/val/test split...\n",
      "Generating sequences...\n",
      "Number of test examples: 41\n",
      "Loading model.\n",
      "Running Integrated Gradients.\n"
     ]
    },
    {
     "name": "stderr",
     "output_type": "stream",
     "text": [
      "100%|██████████| 41/41 [00:07<00:00,  5.16it/s]\n"
     ]
    },
    {
     "name": "stdout",
     "output_type": "stream",
     "text": [
      "Test accuracy: 0.7804877758026123\n",
      "2.0.1+cu117\n",
      "Using cpu\n",
      "Number of features: 100\n",
      "Generating train/val/test split...\n",
      "Generating sequences...\n",
      "Number of test examples: 41\n",
      "Loading model.\n",
      "Running Integrated Gradients.\n"
     ]
    },
    {
     "name": "stderr",
     "output_type": "stream",
     "text": [
      "100%|██████████| 41/41 [00:09<00:00,  4.29it/s]\n"
     ]
    },
    {
     "name": "stdout",
     "output_type": "stream",
     "text": [
      "Test accuracy: 0.7804877758026123\n",
      "SelfStim vs CtrlRest\n",
      "2.0.1+cu117\n",
      "Using cpu\n",
      "Number of features: 100\n",
      "Generating train/val/test split...\n",
      "Generating sequences...\n",
      "Number of test examples: 51\n",
      "Loading model.\n",
      "Running Integrated Gradients.\n"
     ]
    },
    {
     "name": "stderr",
     "output_type": "stream",
     "text": [
      "100%|██████████| 51/51 [00:10<00:00,  5.03it/s]\n"
     ]
    },
    {
     "name": "stdout",
     "output_type": "stream",
     "text": [
      "Test accuracy: 0.8235294222831726\n",
      "2.0.1+cu117\n",
      "Using cpu\n",
      "Number of features: 100\n",
      "Generating train/val/test split...\n",
      "Generating sequences...\n",
      "Number of test examples: 51\n",
      "Loading model.\n",
      "Running Integrated Gradients.\n"
     ]
    },
    {
     "name": "stderr",
     "output_type": "stream",
     "text": [
      "100%|██████████| 51/51 [00:11<00:00,  4.30it/s]\n"
     ]
    },
    {
     "name": "stdout",
     "output_type": "stream",
     "text": [
      "Test accuracy: 0.8235294222831726\n",
      "CtrlStim vs SelfRest\n",
      "2.0.1+cu117\n",
      "Using cpu\n",
      "Number of features: 100\n",
      "Generating train/val/test split...\n",
      "Generating sequences...\n",
      "Number of test examples: 52\n",
      "Loading model.\n",
      "Running Integrated Gradients.\n"
     ]
    },
    {
     "name": "stderr",
     "output_type": "stream",
     "text": [
      "100%|██████████| 52/52 [00:12<00:00,  4.24it/s]\n"
     ]
    },
    {
     "name": "stdout",
     "output_type": "stream",
     "text": [
      "Test accuracy: 0.7307692170143127\n",
      "2.0.1+cu117\n",
      "Using cpu\n",
      "Number of features: 100\n",
      "Generating train/val/test split...\n",
      "Generating sequences...\n",
      "Number of test examples: 52\n",
      "Loading model.\n",
      "Running Integrated Gradients.\n"
     ]
    },
    {
     "name": "stderr",
     "output_type": "stream",
     "text": [
      "100%|██████████| 52/52 [00:10<00:00,  5.05it/s]\n"
     ]
    },
    {
     "name": "stdout",
     "output_type": "stream",
     "text": [
      "Test accuracy: 0.7307692170143127\n",
      "CtrlStim vs CtrlRest\n",
      "2.0.1+cu117\n",
      "Using cpu\n",
      "Number of features: 100\n",
      "Generating train/val/test split...\n",
      "Generating sequences...\n",
      "Number of test examples: 21\n",
      "Loading model.\n",
      "Running Integrated Gradients.\n"
     ]
    },
    {
     "name": "stderr",
     "output_type": "stream",
     "text": [
      "100%|██████████| 21/21 [00:05<00:00,  3.97it/s]\n"
     ]
    },
    {
     "name": "stdout",
     "output_type": "stream",
     "text": [
      "Test accuracy: 0.523809552192688\n",
      "2.0.1+cu117\n",
      "Using cpu\n",
      "Number of features: 100\n",
      "Generating train/val/test split...\n",
      "Generating sequences...\n",
      "Number of test examples: 21\n",
      "Loading model.\n",
      "Running Integrated Gradients.\n"
     ]
    },
    {
     "name": "stderr",
     "output_type": "stream",
     "text": [
      "100%|██████████| 21/21 [00:04<00:00,  4.24it/s]"
     ]
    },
    {
     "name": "stdout",
     "output_type": "stream",
     "text": [
      "Test accuracy: 0.523809552192688\n"
     ]
    },
    {
     "name": "stderr",
     "output_type": "stream",
     "text": [
      "\n"
     ]
    }
   ],
   "source": [
    "\n",
    "print(\"SelfStim vs SelfRest\")\n",
    "grouped_ts_1_3 = explain_temporal(\"./best_model_checkpoint_0_2.pth\", \"../../data/video/All_Subs_Diff_Modules_nofilter_withoutAUc.csv\", [0,2], [0,1], subject, 0)\n",
    "grouped_ts_1_3r = explain_temporal(\"./best_model_checkpoint_0_2.pth\", \"../../data/video/All_Subs_Diff_Modules_nofilter_withoutAUc.csv\", [0,2], [0,1], subject, 1)\n",
    "\n",
    "print(\"SelfStim vs CtrlRest\")\n",
    "grouped_ts_1_4 = explain_temporal(\"./best_model_checkpoint_0_3.pth\", \"../../data/video/All_Subs_Diff_Modules_nofilter_withoutAUc.csv\", [0,3], [0,1], subject, 0)\n",
    "grouped_ts_1_4r = explain_temporal(\"./best_model_checkpoint_0_3.pth\", \"../../data/video/All_Subs_Diff_Modules_nofilter_withoutAUc.csv\", [0,3], [0,1], subject, 1)\n",
    "\n",
    "print(\"CtrlStim vs SelfRest\")\n",
    "grouped_ts_2_3 = explain_temporal(\"./best_model_checkpoint_1_2.pth\", \"../../data/video/All_Subs_Diff_Modules_nofilter_withoutAUc.csv\", [1,2], [0,1], subject, 0)\n",
    "grouped_ts_2_3r = explain_temporal(\"./best_model_checkpoint_1_2.pth\", \"../../data/video/All_Subs_Diff_Modules_nofilter_withoutAUc.csv\", [1,2], [0,1], subject, 1)\n",
    "\n",
    "print(\"CtrlStim vs CtrlRest\")\n",
    "grouped_ts_2_4 = explain_temporal(\"./best_model_checkpoint_1_3.pth\", \"../../data/video/All_Subs_Diff_Modules_nofilter_withoutAUc.csv\", [1,3], [0,1], subject, 0)\n",
    "grouped_ts_2_4r = explain_temporal(\"./best_model_checkpoint_1_3.pth\", \"../../data/video/All_Subs_Diff_Modules_nofilter_withoutAUc.csv\", [1,3], [0,1], subject, 1)"
   ]
  },
  {
   "cell_type": "code",
   "execution_count": 7,
   "metadata": {},
   "outputs": [],
   "source": [
    "# Stim\n",
    "minlength = np.min((grouped_ts_1_3.shape[1], grouped_ts_1_4.shape[1], grouped_ts_2_3.shape[1], grouped_ts_2_4.shape[1]))\n",
    "sit_stim = np.mean((grouped_ts_1_3[:,:minlength], grouped_ts_1_4[:,:minlength], grouped_ts_2_3[:,:minlength], grouped_ts_2_4[:,:minlength]), axis=0)\n",
    "\n",
    "# resample at 0.5s\n",
    "sit_stim_res = np.interp(np.arange(0,sit_stim.shape[1], 10), np.arange(0,sit_stim.shape[1]), sit_stim[0])\n",
    "sit_stim_res = np.vstack((sit_stim_res, np.interp(np.arange(0,sit_stim.shape[1], 10), np.arange(0,sit_stim.shape[1]), sit_stim[1])))\n",
    "sit_stim_res = np.vstack((sit_stim_res, np.interp(np.arange(0,sit_stim.shape[1], 10), np.arange(0,sit_stim.shape[1]), sit_stim[2])))\n",
    "sit_stim_res = np.vstack((sit_stim_res, np.interp(np.arange(0,sit_stim.shape[1], 10), np.arange(0,sit_stim.shape[1]), sit_stim[3])))\n",
    "sit_stim_res = np.vstack((sit_stim_res, np.interp(np.arange(0,sit_stim.shape[1], 10), np.arange(0,sit_stim.shape[1]), sit_stim[4])))\n",
    "sit_stim_res = np.vstack((sit_stim_res, np.interp(np.arange(0,sit_stim.shape[1], 10), np.arange(0,sit_stim.shape[1]), sit_stim[5])))\n",
    "sit_stim_res = np.vstack((sit_stim_res, np.interp(np.arange(0,sit_stim.shape[1], 10), np.arange(0,sit_stim.shape[1]), sit_stim[6])))\n",
    "sit_stim_res = np.vstack((sit_stim_res, np.interp(np.arange(0,sit_stim.shape[1], 10), np.arange(0,sit_stim.shape[1]), sit_stim[7])))\n",
    "\n"
   ]
  },
  {
   "cell_type": "code",
   "execution_count": 8,
   "metadata": {},
   "outputs": [
    {
     "data": {
      "image/png": "[encoded data removed]",
      "text/plain": [
       "<Figure size 640x480 with 1 Axes>"
      ]
     },
     "metadata": {},
     "output_type": "display_data"
    }
   ],
   "source": [
    "plt.imshow(sit_stim_res)\n",
    "# plt.savefig(os.path.join(\"./\", \"sit_stim_res.png\"))"
   ]
  },
  {
   "cell_type": "code",
   "execution_count": 9,
   "metadata": {},
   "outputs": [
    {
     "name": "stdout",
     "output_type": "stream",
     "text": [
      "SelfStim vs CtrlStim\n",
      "2.0.1+cu117\n",
      "Using cpu\n",
      "Number of features: 100\n",
      "Generating train/val/test split...\n",
      "Generating sequences...\n",
      "Number of test examples: 41\n",
      "Loading model.\n",
      "Running Integrated Gradients.\n"
     ]
    },
    {
     "name": "stderr",
     "output_type": "stream",
     "text": [
      "100%|██████████| 41/41 [00:07<00:00,  5.20it/s]\n"
     ]
    },
    {
     "name": "stdout",
     "output_type": "stream",
     "text": [
      "Test accuracy: 0.8780487775802612\n",
      "2.0.1+cu117\n",
      "Using cpu\n",
      "Number of features: 100\n",
      "Generating train/val/test split...\n",
      "Generating sequences...\n",
      "Number of test examples: 41\n",
      "Loading model.\n",
      "Running Integrated Gradients.\n"
     ]
    },
    {
     "name": "stderr",
     "output_type": "stream",
     "text": [
      "100%|██████████| 41/41 [00:09<00:00,  4.13it/s]\n"
     ]
    },
    {
     "name": "stdout",
     "output_type": "stream",
     "text": [
      "Test accuracy: 0.8780487775802612\n",
      "SelfRest vs CtrlRest\n",
      "2.0.1+cu117\n",
      "Using cpu\n",
      "Number of features: 100\n",
      "Generating train/val/test split...\n",
      "Generating sequences...\n",
      "Number of test examples: 61\n",
      "Loading model.\n",
      "Running Integrated Gradients.\n"
     ]
    },
    {
     "name": "stderr",
     "output_type": "stream",
     "text": [
      "100%|██████████| 61/61 [00:13<00:00,  4.49it/s]\n"
     ]
    },
    {
     "name": "stdout",
     "output_type": "stream",
     "text": [
      "Test accuracy: 0.5901639461517334\n",
      "2.0.1+cu117\n",
      "Using cpu\n",
      "Number of features: 100\n",
      "Generating train/val/test split...\n",
      "Generating sequences...\n",
      "Number of test examples: 61\n",
      "Loading model.\n",
      "Running Integrated Gradients.\n"
     ]
    },
    {
     "name": "stderr",
     "output_type": "stream",
     "text": [
      "100%|██████████| 61/61 [00:13<00:00,  4.44it/s]\n"
     ]
    },
    {
     "name": "stdout",
     "output_type": "stream",
     "text": [
      "Test accuracy: 0.5901639461517334\n",
      "SelfSoc vs CtrlSoc\n",
      "2.0.1+cu117\n",
      "Using cpu\n",
      "Number of features: 100\n",
      "Generating train/val/test split...\n",
      "Generating sequences...\n",
      "Number of test examples: 59\n",
      "Loading model.\n",
      "Running Integrated Gradients.\n"
     ]
    },
    {
     "name": "stderr",
     "output_type": "stream",
     "text": [
      "100%|██████████| 59/59 [00:13<00:00,  4.40it/s]\n"
     ]
    },
    {
     "name": "stdout",
     "output_type": "stream",
     "text": [
      "Test accuracy: 0.8813559412956238\n",
      "2.0.1+cu117\n",
      "Using cpu\n",
      "Number of features: 100\n",
      "Generating train/val/test split...\n",
      "Generating sequences...\n",
      "Number of test examples: 59\n",
      "Loading model.\n",
      "Running Integrated Gradients.\n"
     ]
    },
    {
     "name": "stderr",
     "output_type": "stream",
     "text": [
      "100%|██████████| 59/59 [00:11<00:00,  5.14it/s]"
     ]
    },
    {
     "name": "stdout",
     "output_type": "stream",
     "text": [
      "Test accuracy: 0.8813559412956238\n"
     ]
    },
    {
     "name": "stderr",
     "output_type": "stream",
     "text": [
      "\n"
     ]
    }
   ],
   "source": [
    "print(\"SelfStim vs CtrlStim\")\n",
    "grouped_ts_1_2 = explain_temporal(\"./best_model_checkpoint_0_1.pth\", \"../../data/video/All_Subs_Diff_Modules_nofilter_withoutAUc.csv\", [0,1], [0,1], subject, 0)\n",
    "grouped_ts_1_2r = explain_temporal(\"./best_model_checkpoint_0_1.pth\", \"../../data/video/All_Subs_Diff_Modules_nofilter_withoutAUc.csv\", [0,1], [0,1], subject, 1)\n",
    "\n",
    "print(\"SelfRest vs CtrlRest\")\n",
    "grouped_ts_3_4 = explain_temporal(\"./best_model_checkpoint_2_3.pth\", \"../../data/video/All_Subs_Diff_Modules_nofilter_withoutAUc.csv\", [2,3], [0,1], subject, 0)\n",
    "grouped_ts_3_4r = explain_temporal(\"./best_model_checkpoint_2_3.pth\", \"../../data/video/All_Subs_Diff_Modules_nofilter_withoutAUc.csv\", [2,3], [0,1], subject, 1)\n",
    "\n",
    "print(\"SelfSoc vs CtrlSoc\")\n",
    "grouped_ts_5_6 = explain_temporal(\"./best_model_checkpoint_4_5.pth\", \"../../data/video/All_Subs_Diff_Modules_nofilter_withoutAUc.csv\", [4,5], [0,1], subject, 0)\n",
    "grouped_ts_5_6r = explain_temporal(\"./best_model_checkpoint_4_5.pth\", \"../../data/video/All_Subs_Diff_Modules_nofilter_withoutAUc.csv\", [4,5], [0,1], subject, 1)"
   ]
  },
  {
   "cell_type": "code",
   "execution_count": 10,
   "metadata": {},
   "outputs": [],
   "source": [
    "# Self\n",
    "minlength = np.min((grouped_ts_1_2r.shape[1], grouped_ts_3_4r.shape[1], grouped_ts_5_6r.shape[1]))\n",
    "sit_self = np.mean((grouped_ts_1_2r[:,:minlength], grouped_ts_3_4r[:,:minlength], grouped_ts_5_6r[:,:minlength]), axis=0)\n",
    "\n",
    "# resample at 0.5s\n",
    "sit_self_res = np.interp(np.arange(0,sit_self.shape[1], 10), np.arange(0,sit_self.shape[1]), sit_self[0])\n",
    "sit_self_res = np.vstack((sit_self_res, np.interp(np.arange(0,sit_self.shape[1], 10), np.arange(0,sit_self.shape[1]), sit_self[1])))\n",
    "sit_self_res = np.vstack((sit_self_res, np.interp(np.arange(0,sit_self.shape[1], 10), np.arange(0,sit_self.shape[1]), sit_self[2])))\n",
    "sit_self_res = np.vstack((sit_self_res, np.interp(np.arange(0,sit_self.shape[1], 10), np.arange(0,sit_self.shape[1]), sit_self[3])))\n",
    "sit_self_res = np.vstack((sit_self_res, np.interp(np.arange(0,sit_self.shape[1], 10), np.arange(0,sit_self.shape[1]), sit_self[4])))\n",
    "sit_self_res = np.vstack((sit_self_res, np.interp(np.arange(0,sit_self.shape[1], 10), np.arange(0,sit_self.shape[1]), sit_self[5])))\n",
    "sit_self_res = np.vstack((sit_self_res, np.interp(np.arange(0,sit_self.shape[1], 10), np.arange(0,sit_self.shape[1]), sit_self[6])))\n",
    "sit_self_res = np.vstack((sit_self_res, np.interp(np.arange(0,sit_self.shape[1], 10), np.arange(0,sit_self.shape[1]), sit_self[7])))"
   ]
  },
  {
   "cell_type": "code",
   "execution_count": 11,
   "metadata": {},
   "outputs": [
    {
     "data": {
      "image/png": "[encoded data removed]",
      "text/plain": [
       "<Figure size 640x480 with 1 Axes>"
      ]
     },
     "metadata": {},
     "output_type": "display_data"
    }
   ],
   "source": [
    "plt.imshow(sit_self_res)\n",
    "# plt.savefig(os.path.join(\"./\", \"sit_self_res.png\"))"
   ]
  }
 ],
 "metadata": {
  "kernelspec": {
   "display_name": "Python 3",
   "language": "python",
   "name": "python3"
  },
  "language_info": {
   "codemirror_mode": {
    "name": "ipython",
    "version": 3
   },
   "file_extension": ".py",
   "mimetype": "text/x-python",
   "name": "python",
   "nbconvert_exporter": "python",
   "pygments_lexer": "ipython3",
   "version": "3.10.11"
  }
 },
 "nbformat": 4,
 "nbformat_minor": 2
}
