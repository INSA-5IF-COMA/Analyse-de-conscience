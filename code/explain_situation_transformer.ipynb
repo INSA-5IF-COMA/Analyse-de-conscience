{
 "cells": [
  {
   "cell_type": "code",
   "execution_count": null,
   "metadata": {},
   "outputs": [],
   "source": [
    "from explain_temporal_transformer import explain_temporal\n",
    "import matplotlib.pyplot as plt\n",
    "import numpy as np\n",
    "import os\n",
    "\n",
    "subject = 3\n"
   ]
  },
  {
   "cell_type": "code",
   "execution_count": null,
   "metadata": {},
   "outputs": [],
   "source": [
    "print(\"SelfStim vs SelfSoc\")\n",
    "grouped_ts_1_5 = explain_temporal(\"../models/transformer/best_model_checkpoint_0_4_3.pth\", \"../../data/video/All_Subs_Diff_Modules_nofilter_withoutAUc.csv\", [0,4], [0,1], subject, 0)\n",
    "grouped_ts_1_5r = explain_temporal(\"../models/transformer/best_model_checkpoint_0_4_3.pth\", \"../../data/video/All_Subs_Diff_Modules_nofilter_withoutAUc.csv\", [0,4], [0,1], subject, 1)\n",
    "\n",
    "print(\"SelfStim vs CtrlSoc\")\n",
    "grouped_ts_1_6 = explain_temporal(\"../models/transformer/best_model_checkpoint_0_5_3.pth\", \"../../data/video/All_Subs_Diff_Modules_nofilter_withoutAUc.csv\", [0,5], [0,1], subject, 0)\n",
    "grouped_ts_1_6r = explain_temporal(\"../models/transformer/best_model_checkpoint_0_5_3.pth\", \"../../data/video/All_Subs_Diff_Modules_nofilter_withoutAUc.csv\", [0,5], [0,1], subject, 1)\n",
    "\n",
    "print(\"CtrlStim vs SelfSoc\")\n",
    "grouped_ts_2_5 = explain_temporal(\"../models/transformer/best_model_checkpoint_1_4_3.pth\", \"../../data/video/All_Subs_Diff_Modules_nofilter_withoutAUc.csv\", [1,4], [0,1], subject, 0)\n",
    "grouped_ts_2_5r = explain_temporal(\"../models/transformer/best_model_checkpoint_1_4_3.pth\", \"../../data/video/All_Subs_Diff_Modules_nofilter_withoutAUc.csv\", [1,4], [0,1], subject, 1)\n",
    "\n",
    "print(\"CtrlStim vs CtrlSoc\")\n",
    "grouped_ts_2_6 = explain_temporal(\"../models/transformer/best_model_checkpoint_1_5_3.pth\", \"../../data/video/All_Subs_Diff_Modules_nofilter_withoutAUc.csv\", [1,5], [0,1], subject, 0)\n",
    "grouped_ts_2_6r = explain_temporal(\"../models/transformer/best_model_checkpoint_1_5_3.pth\", \"../../data/video/All_Subs_Diff_Modules_nofilter_withoutAUc.csv\", [1,5], [0,1], subject, 1)\n",
    "\n",
    "print(\"SelfRest vs SelfSoc\")\n",
    "grouped_ts_3_5 = explain_temporal(\"../models/transformer/best_model_checkpoint_2_4_3.pth\", \"../../data/video/All_Subs_Diff_Modules_nofilter_withoutAUc.csv\", [2,4], [0,1], subject, 0)\n",
    "grouped_ts_3_5r = explain_temporal(\"../models/transformer/best_model_checkpoint_2_4_3.pth\", \"../../data/video/All_Subs_Diff_Modules_nofilter_withoutAUc.csv\", [2,4], [0,1], subject, 1)\n",
    "\n",
    "print(\"SelfRest vs CtrlSoc\")\n",
    "grouped_ts_3_6 = explain_temporal(\"../models/transformer/best_model_checkpoint_2_5_3.pth\", \"../../data/video/All_Subs_Diff_Modules_nofilter_withoutAUc.csv\", [2,5], [0,1], subject, 0)\n",
    "grouped_ts_3_6r = explain_temporal(\"../models/transformer/best_model_checkpoint_2_5_3.pth\", \"../../data/video/All_Subs_Diff_Modules_nofilter_withoutAUc.csv\", [2,5], [0,1], subject, 1)\n",
    "\n",
    "print(\"CtrlRest vs SelfSoc\")\n",
    "grouped_ts_4_5 = explain_temporal(\"../models/transformer/best_model_checkpoint_3_4_3.pth\", \"../../data/video/All_Subs_Diff_Modules_nofilter_withoutAUc.csv\", [3,4], [0,1], subject, 0)\n",
    "grouped_ts_4_5r = explain_temporal(\"../models/transformer/best_model_checkpoint_3_4_3.pth\", \"../../data/video/All_Subs_Diff_Modules_nofilter_withoutAUc.csv\", [3,4], [0,1], subject, 1)\n",
    "\n",
    "print(\"CtrlRest vs CtrlSoc\")\n",
    "grouped_ts_4_6 = explain_temporal(\"../models/transformer/best_model_checkpoint_3_5_3.pth\", \"../../data/video/All_Subs_Diff_Modules_nofilter_withoutAUc.csv\", [3,5], [0,1], subject, 0)\n",
    "grouped_ts_4_6r = explain_temporal(\"../models/transformer/best_model_checkpoint_3_5_3.pth\", \"../../data/video/All_Subs_Diff_Modules_nofilter_withoutAUc.csv\", [3,5], [0,1], subject, 1)\n"
   ]
  },
  {
   "cell_type": "code",
   "execution_count": 3,
   "metadata": {},
   "outputs": [],
   "source": [
    "# Soc\n",
    "minlength = np.min((grouped_ts_1_5r.shape[1], grouped_ts_2_5r.shape[1], grouped_ts_3_5r.shape[1], grouped_ts_4_5r.shape[1], grouped_ts_1_6r.shape[1], grouped_ts_2_6r.shape[1], grouped_ts_3_6r.shape[1], grouped_ts_4_6r.shape[1]))\n",
    "sit_soc = np.mean((grouped_ts_1_5r[:,:minlength], grouped_ts_2_5r[:,:minlength], grouped_ts_3_5r[:,:minlength], grouped_ts_4_5r[:,:minlength], grouped_ts_1_6r[:,:minlength], grouped_ts_2_6r[:,:minlength], grouped_ts_3_6r[:,:minlength], grouped_ts_4_6r[:,:minlength]), axis=0)\n",
    "\n",
    "# resample at 0.5s\n",
    "sit_soc_res = np.interp(np.arange(0,sit_soc.shape[1], 10), np.arange(0,sit_soc.shape[1]), sit_soc[0])\n",
    "sit_soc_res = np.vstack((sit_soc_res, np.interp(np.arange(0,sit_soc.shape[1], 10), np.arange(0,sit_soc.shape[1]), sit_soc[1])))\n",
    "sit_soc_res = np.vstack((sit_soc_res, np.interp(np.arange(0,sit_soc.shape[1], 10), np.arange(0,sit_soc.shape[1]), sit_soc[2])))\n",
    "sit_soc_res = np.vstack((sit_soc_res, np.interp(np.arange(0,sit_soc.shape[1], 10), np.arange(0,sit_soc.shape[1]), sit_soc[3])))\n",
    "sit_soc_res = np.vstack((sit_soc_res, np.interp(np.arange(0,sit_soc.shape[1], 10), np.arange(0,sit_soc.shape[1]), sit_soc[4])))\n",
    "sit_soc_res = np.vstack((sit_soc_res, np.interp(np.arange(0,sit_soc.shape[1], 10), np.arange(0,sit_soc.shape[1]), sit_soc[5])))\n",
    "sit_soc_res = np.vstack((sit_soc_res, np.interp(np.arange(0,sit_soc.shape[1], 10), np.arange(0,sit_soc.shape[1]), sit_soc[6])))\n",
    "sit_soc_res = np.vstack((sit_soc_res, np.interp(np.arange(0,sit_soc.shape[1], 10), np.arange(0,sit_soc.shape[1]), sit_soc[7])))\n",
    "\n",
    "# print(sit_soc_res)\n",
    "# print(len(sit_soc_res), len(sit_soc_res[0]))"
   ]
  },
  {
   "cell_type": "code",
   "execution_count": null,
   "metadata": {},
   "outputs": [],
   "source": [
    "plt.imshow(sit_soc_res)\n",
    "# plt.savefig(os.path.join(\"./\", \"sit_soc_res.png\"))"
   ]
  },
  {
   "cell_type": "code",
   "execution_count": null,
   "metadata": {},
   "outputs": [],
   "source": [
    "# Multiplying all values by 100\n",
    "sit_soc_res *= 100\n",
    "\n",
    "# Summing values by row\n",
    "sum_by_row = np.sum(sit_soc_res, axis=1)\n",
    "\n",
    "sum_by_row"
   ]
  },
  {
   "cell_type": "code",
   "execution_count": null,
   "metadata": {},
   "outputs": [],
   "source": [
    "\n",
    "print(\"SelfStim vs SelfRest\")\n",
    "grouped_ts_1_3 = explain_temporal(\"../models/transformer/best_model_checkpoint_0_2_3.pth\", \"../../data/video/All_Subs_Diff_Modules_nofilter_withoutAUc.csv\", [0,2], [0,1], subject, 0)\n",
    "grouped_ts_1_3r = explain_temporal(\"../models/transformer/best_model_checkpoint_0_2_3.pth\", \"../../data/video/All_Subs_Diff_Modules_nofilter_withoutAUc.csv\", [0,2], [0,1], subject, 1)\n",
    "\n",
    "print(\"SelfStim vs CtrlRest\")\n",
    "grouped_ts_1_4 = explain_temporal(\"../models/transformer/best_model_checkpoint_0_3_3.pth\", \"../../data/video/All_Subs_Diff_Modules_nofilter_withoutAUc.csv\", [0,3], [0,1], subject, 0)\n",
    "grouped_ts_1_4r = explain_temporal(\"../models/transformer/best_model_checkpoint_0_3_3.pth\", \"../../data/video/All_Subs_Diff_Modules_nofilter_withoutAUc.csv\", [0,3], [0,1], subject, 1)\n",
    "\n",
    "print(\"CtrlStim vs SelfRest\")\n",
    "grouped_ts_2_3 = explain_temporal(\"../models/transformer/best_model_checkpoint_1_2_3.pth\", \"../../data/video/All_Subs_Diff_Modules_nofilter_withoutAUc.csv\", [1,2], [0,1], subject, 0)\n",
    "grouped_ts_2_3r = explain_temporal(\"../models/transformer/best_model_checkpoint_1_2_3.pth\", \"../../data/video/All_Subs_Diff_Modules_nofilter_withoutAUc.csv\", [1,2], [0,1], subject, 1)\n",
    "\n",
    "print(\"CtrlStim vs CtrlRest\")\n",
    "grouped_ts_2_4 = explain_temporal(\"../models/transformer/best_model_checkpoint_1_3_3.pth\", \"../../data/video/All_Subs_Diff_Modules_nofilter_withoutAUc.csv\", [1,3], [0,1], subject, 0)\n",
    "grouped_ts_2_4r = explain_temporal(\"../models/transformer/best_model_checkpoint_1_3_3.pth\", \"../../data/video/All_Subs_Diff_Modules_nofilter_withoutAUc.csv\", [1,3], [0,1], subject, 1)"
   ]
  },
  {
   "cell_type": "code",
   "execution_count": 24,
   "metadata": {},
   "outputs": [],
   "source": [
    "# Stim\n",
    "minlength = np.min((grouped_ts_1_3.shape[1], grouped_ts_1_4.shape[1], grouped_ts_2_3.shape[1], grouped_ts_2_4.shape[1]))\n",
    "sit_stim = np.mean((grouped_ts_1_3[:,:minlength], grouped_ts_1_4[:,:minlength], grouped_ts_2_3[:,:minlength], grouped_ts_2_4[:,:minlength]), axis=0)\n",
    "\n",
    "# resample at 0.5s\n",
    "sit_stim_res = np.interp(np.arange(0,sit_stim.shape[1], 10), np.arange(0,sit_stim.shape[1]), sit_stim[0])\n",
    "sit_stim_res = np.vstack((sit_stim_res, np.interp(np.arange(0,sit_stim.shape[1], 10), np.arange(0,sit_stim.shape[1]), sit_stim[1])))\n",
    "sit_stim_res = np.vstack((sit_stim_res, np.interp(np.arange(0,sit_stim.shape[1], 10), np.arange(0,sit_stim.shape[1]), sit_stim[2])))\n",
    "sit_stim_res = np.vstack((sit_stim_res, np.interp(np.arange(0,sit_stim.shape[1], 10), np.arange(0,sit_stim.shape[1]), sit_stim[3])))\n",
    "sit_stim_res = np.vstack((sit_stim_res, np.interp(np.arange(0,sit_stim.shape[1], 10), np.arange(0,sit_stim.shape[1]), sit_stim[4])))\n",
    "sit_stim_res = np.vstack((sit_stim_res, np.interp(np.arange(0,sit_stim.shape[1], 10), np.arange(0,sit_stim.shape[1]), sit_stim[5])))\n",
    "sit_stim_res = np.vstack((sit_stim_res, np.interp(np.arange(0,sit_stim.shape[1], 10), np.arange(0,sit_stim.shape[1]), sit_stim[6])))\n",
    "sit_stim_res = np.vstack((sit_stim_res, np.interp(np.arange(0,sit_stim.shape[1], 10), np.arange(0,sit_stim.shape[1]), sit_stim[7])))"
   ]
  },
  {
   "cell_type": "code",
   "execution_count": null,
   "metadata": {},
   "outputs": [],
   "source": [
    "plt.imshow(sit_stim_res)\n",
    "# plt.savefig(os.path.join(\"./\", \"sit_stim_res.png\"))"
   ]
  },
  {
   "cell_type": "code",
   "execution_count": null,
   "metadata": {},
   "outputs": [],
   "source": [
    "print(\"SelfStim vs CtrlStim\")\n",
    "grouped_ts_1_2 = explain_temporal(\"../models/transformer/best_model_checkpoint_0_1_3.pth\", \"../../data/video/All_Subs_Diff_Modules_nofilter_withoutAUc.csv\", [0,1], [0,1], subject, 0)\n",
    "grouped_ts_1_2r = explain_temporal(\"../models/transformer/best_model_checkpoint_0_1_3.pth\", \"../../data/video/All_Subs_Diff_Modules_nofilter_withoutAUc.csv\", [0,1], [0,1], subject, 1)\n",
    "\n",
    "print(\"SelfRest vs CtrlRest\")\n",
    "grouped_ts_3_4 = explain_temporal(\"../models/transformer/best_model_checkpoint_2_3_3.pth\", \"../../data/video/All_Subs_Diff_Modules_nofilter_withoutAUc.csv\", [2,3], [0,1], subject, 0)\n",
    "grouped_ts_3_4r = explain_temporal(\"../models/transformer/best_model_checkpoint_2_3_3.pth\", \"../../data/video/All_Subs_Diff_Modules_nofilter_withoutAUc.csv\", [2,3], [0,1], subject, 1)\n",
    "\n",
    "print(\"SelfSoc vs CtrlSoc\")\n",
    "grouped_ts_5_6 = explain_temporal(\"../models/transformer/best_model_checkpoint_4_5_3.pth\", \"../../data/video/All_Subs_Diff_Modules_nofilter_withoutAUc.csv\", [4,5], [0,1], subject, 0)\n",
    "grouped_ts_5_6r = explain_temporal(\"../models/transformer/best_model_checkpoint_4_5_3.pth\", \"../../data/video/All_Subs_Diff_Modules_nofilter_withoutAUc.csv\", [4,5], [0,1], subject, 1)"
   ]
  },
  {
   "cell_type": "code",
   "execution_count": 30,
   "metadata": {},
   "outputs": [],
   "source": [
    "# Self\n",
    "minlength = np.min((grouped_ts_1_2r.shape[1], grouped_ts_3_4r.shape[1], grouped_ts_5_6r.shape[1]))\n",
    "sit_self = np.mean((grouped_ts_1_2r[:,:minlength], grouped_ts_3_4r[:,:minlength], grouped_ts_5_6r[:,:minlength]), axis=0)\n",
    "\n",
    "# resample at 0.5s\n",
    "sit_self_res = np.interp(np.arange(0,sit_self.shape[1], 10), np.arange(0,sit_self.shape[1]), sit_self[0])\n",
    "sit_self_res = np.vstack((sit_self_res, np.interp(np.arange(0,sit_self.shape[1], 10), np.arange(0,sit_self.shape[1]), sit_self[1])))\n",
    "sit_self_res = np.vstack((sit_self_res, np.interp(np.arange(0,sit_self.shape[1], 10), np.arange(0,sit_self.shape[1]), sit_self[2])))\n",
    "sit_self_res = np.vstack((sit_self_res, np.interp(np.arange(0,sit_self.shape[1], 10), np.arange(0,sit_self.shape[1]), sit_self[3])))\n",
    "sit_self_res = np.vstack((sit_self_res, np.interp(np.arange(0,sit_self.shape[1], 10), np.arange(0,sit_self.shape[1]), sit_self[4])))\n",
    "sit_self_res = np.vstack((sit_self_res, np.interp(np.arange(0,sit_self.shape[1], 10), np.arange(0,sit_self.shape[1]), sit_self[5])))\n",
    "sit_self_res = np.vstack((sit_self_res, np.interp(np.arange(0,sit_self.shape[1], 10), np.arange(0,sit_self.shape[1]), sit_self[6])))\n",
    "sit_self_res = np.vstack((sit_self_res, np.interp(np.arange(0,sit_self.shape[1], 10), np.arange(0,sit_self.shape[1]), sit_self[7])))"
   ]
  },
  {
   "cell_type": "code",
   "execution_count": null,
   "metadata": {},
   "outputs": [],
   "source": [
    "plt.imshow(sit_self_res)\n",
    "# plt.savefig(os.path.join(\"./\", \"sit_self_res.png\"))"
   ]
  }
 ],
 "metadata": {
  "kernelspec": {
   "display_name": "Python 3",
   "language": "python",
   "name": "python3"
  },
  "language_info": {
   "codemirror_mode": {
    "name": "ipython",
    "version": 3
   },
   "file_extension": ".py",
   "mimetype": "text/x-python",
   "name": "python",
   "nbconvert_exporter": "python",
   "pygments_lexer": "ipython3",
   "version": "3.10.11"
  }
 },
 "nbformat": 4,
 "nbformat_minor": 2
}
